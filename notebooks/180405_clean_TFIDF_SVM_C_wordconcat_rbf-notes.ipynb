{
 "cells": [
  {
   "cell_type": "code",
   "execution_count": 1,
   "metadata": {
    "collapsed": true
   },
   "outputs": [],
   "source": [
    "import numpy as np\n",
    "import json\n",
    "\n",
    "\n",
    "with open('../_data/train.json', 'r') as f:\n",
    "    train = json.load(f)\n",
    "with open('../_data/test.json', 'r') as f:\n",
    "    test = json.load(f)"
   ]
  },
  {
   "cell_type": "code",
   "execution_count": 2,
   "metadata": {},
   "outputs": [
    {
     "data": {
      "text/plain": [
       "(39774, 9944)"
      ]
     },
     "execution_count": 2,
     "metadata": {},
     "output_type": "execute_result"
    }
   ],
   "source": [
    "len(train), len(test)"
   ]
  },
  {
   "cell_type": "code",
   "execution_count": 3,
   "metadata": {},
   "outputs": [
    {
     "data": {
      "text/plain": [
       "{'cuisine': 'greek',\n",
       " 'id': 10259,\n",
       " 'ingredients': ['romaine lettuce',\n",
       "  'black olives',\n",
       "  'grape tomatoes',\n",
       "  'garlic',\n",
       "  'pepper',\n",
       "  'purple onion',\n",
       "  'seasoning',\n",
       "  'garbanzo beans',\n",
       "  'feta cheese crumbles']}"
      ]
     },
     "execution_count": 3,
     "metadata": {},
     "output_type": "execute_result"
    }
   ],
   "source": [
    "train[0]"
   ]
  },
  {
   "cell_type": "code",
   "execution_count": 4,
   "metadata": {
    "collapsed": true
   },
   "outputs": [],
   "source": [
    "import re\n",
    "from collections import Counter"
   ]
  },
  {
   "cell_type": "code",
   "execution_count": 5,
   "metadata": {},
   "outputs": [
    {
     "data": {
      "text/plain": [
       "Counter({'!': 34,\n",
       "         '%': 394,\n",
       "         '&': 479,\n",
       "         \"'\": 240,\n",
       "         '(': 55,\n",
       "         ')': 55,\n",
       "         ',': 814,\n",
       "         '.': 57,\n",
       "         '/': 2,\n",
       "         '®': 244,\n",
       "         '’': 8,\n",
       "         '€': 1,\n",
       "         '™': 79})"
      ]
     },
     "execution_count": 5,
     "metadata": {},
     "output_type": "execute_result"
    }
   ],
   "source": [
    "SPEC_CHARS = re.compile(r'[^\\w\\s\\-_]')\n",
    "\n",
    "chars = [re.findall(SPEC_CHARS, x)\\\n",
    " for ilist in [r['ingredients'] for r in train+test] for x in ilist if re.search(SPEC_CHARS, x)]\n",
    "\n",
    "Counter([x for charlist in chars for x in charlist])"
   ]
  },
  {
   "cell_type": "markdown",
   "metadata": {},
   "source": [
    "### Clean rules\n",
    "* remove `'`, `’`, `( oz*)`, `(`, `)`\n",
    "* replace `&` with `and`\n",
    "* replace all else (`™`, `®`, `.`, `€`) with `' '`\n",
    "* keep `%`"
   ]
  },
  {
   "cell_type": "code",
   "execution_count": 6,
   "metadata": {
    "collapsed": true
   },
   "outputs": [],
   "source": [
    "SPEC_REMOVE = re.compile(r'(\\'|\\’|\\(.*oz.*\\)|(\\()|(\\)))')\n",
    "SPEC_AND = re.compile(r'\\&')\n",
    "SPEC_ELSE = re.compile(r'[^\\w\\s\\%_]')\n",
    "\n",
    "def clean_ingr(ingr):\n",
    "    ingr = re.sub(SPEC_REMOVE, '', ingr)\n",
    "    ingr = re.sub(SPEC_AND, 'and', ingr)\n",
    "    ingr = re.sub(SPEC_ELSE, ' ', ingr)\n",
    "    return ' '.join(ingr.split())"
   ]
  },
  {
   "cell_type": "markdown",
   "metadata": {},
   "source": [
    "## Pipeline using TFIDF (bag of ingredients) and SVC"
   ]
  },
  {
   "cell_type": "code",
   "execution_count": 7,
   "metadata": {
    "collapsed": true
   },
   "outputs": [],
   "source": [
    "from sklearn.feature_extraction.text import CountVectorizer\n",
    "from sklearn.feature_extraction import DictVectorizer\n",
    "from sklearn.feature_extraction.text import TfidfVectorizer\n",
    "\n",
    "from sklearn.pipeline import Pipeline\n",
    "from sklearn.svm import SVC\n",
    "from sklearn.metrics import accuracy_score\n",
    "from sklearn.model_selection import cross_val_score"
   ]
  },
  {
   "cell_type": "code",
   "execution_count": 8,
   "metadata": {
    "collapsed": true
   },
   "outputs": [],
   "source": [
    "def itself(x):\n",
    "    return x"
   ]
  },
  {
   "cell_type": "code",
   "execution_count": 9,
   "metadata": {
    "collapsed": true
   },
   "outputs": [],
   "source": [
    "SPEC_REMOVE = re.compile(r'(\\'|\\’|\\(.*oz.*\\)|(\\()|(\\)))')\n",
    "SPEC_AND = re.compile(r'\\&')\n",
    "SPEC_ELSE = re.compile(r'[^\\w\\s\\%_]')\n",
    "\n",
    "def clean_ingr(ingr):\n",
    "    ingr = re.sub(SPEC_REMOVE, '', ingr)\n",
    "    ingr = re.sub(SPEC_AND, 'and', ingr)\n",
    "    ingr = re.sub(SPEC_ELSE, ' ', ingr)\n",
    "    return ' '.join(ingr.split())"
   ]
  },
  {
   "cell_type": "code",
   "execution_count": 10,
   "metadata": {
    "collapsed": true
   },
   "outputs": [],
   "source": [
    "def get_ingrs(given):\n",
    "    ingrs = [[clean_ingr(i).lower() for i in recipe['ingredients']] for recipe in given]\n",
    "    return ingrs\n",
    "\n",
    "def get_labels(given):\n",
    "    return [r['cuisine'] for r in given]"
   ]
  },
  {
   "cell_type": "code",
   "execution_count": 11,
   "metadata": {
    "collapsed": true
   },
   "outputs": [],
   "source": [
    "train_ingrs = get_ingrs(train)"
   ]
  },
  {
   "cell_type": "code",
   "execution_count": 12,
   "metadata": {
    "collapsed": true
   },
   "outputs": [],
   "source": [
    "def combine_words(ilist):\n",
    "    return ' '.join(ilist)"
   ]
  },
  {
   "cell_type": "code",
   "execution_count": 13,
   "metadata": {
    "collapsed": true
   },
   "outputs": [],
   "source": [
    "from sklearn.pipeline import FeatureUnion\n",
    "from sklearn.multiclass import OneVsRestClassifier"
   ]
  },
  {
   "cell_type": "code",
   "execution_count": 14,
   "metadata": {
    "collapsed": true
   },
   "outputs": [],
   "source": [
    "word_ingr = Pipeline([\n",
    "    ('union', FeatureUnion([\n",
    "        (\"ingrs\", TfidfVectorizer(strip_accents='unicode',\n",
    "                                  tokenizer=itself,\n",
    "                                  preprocessor=itself)),\n",
    "        (\"words\", TfidfVectorizer(strip_accents='unicode',\n",
    "                                  preprocessor=combine_words)),\n",
    "        ])),\n",
    "    (\"svc\", SVC(kernel=\"rbf\", C=100, gamma=1))\n",
    "])\n",
    "\n",
    "ovr = OneVsRestClassifier(word_ingr)"
   ]
  },
  {
   "cell_type": "code",
   "execution_count": 15,
   "metadata": {},
   "outputs": [
    {
     "name": "stdout",
     "output_type": "stream",
     "text": [
      "[CV]  ................................................................\n",
      "[CV]  ................................................................\n",
      "[CV]  ................................................................\n",
      "[CV]  ................................................................\n",
      "[CV]  ................................................................\n",
      "[CV] ....................... , score=0.804678656772733, total=155.2min\n",
      "[Parallel(n_jobs=-1)]: Done   1 tasks      | elapsed: 155.2min\n",
      "[CV] ...................... , score=0.8125942684766214, total=157.0min\n",
      "[Parallel(n_jobs=-1)]: Done   2 out of   5 | elapsed: 157.0min remaining: 235.5min\n",
      "[CV] ........................ , score=0.80997236875157, total=157.3min\n",
      "[Parallel(n_jobs=-1)]: Done   3 out of   5 | elapsed: 157.3min remaining: 104.9min\n",
      "[CV] ...................... , score=0.8141437020259217, total=157.8min\n",
      "[CV] ...................... , score=0.8179190751445087, total=158.2min\n",
      "[Parallel(n_jobs=-1)]: Done   5 out of   5 | elapsed: 158.2min remaining:    0.0s\n",
      "[Parallel(n_jobs=-1)]: Done   5 out of   5 | elapsed: 158.2min finished\n",
      "CPU times: user 9.18 s, sys: 1.73 s, total: 10.9 s\n",
      "Wall time: 2h 38min 15s\n"
     ]
    }
   ],
   "source": [
    "%%time\n",
    "scores = cross_val_score(ovr, get_ingrs(train), get_labels(train), cv=5, n_jobs=-1, verbose=50)"
   ]
  },
  {
   "cell_type": "code",
   "execution_count": 16,
   "metadata": {},
   "outputs": [
    {
     "data": {
      "text/plain": [
       "array([ 0.80997237,  0.81791908,  0.81259427,  0.80467866,  0.8141437 ])"
      ]
     },
     "execution_count": 16,
     "metadata": {},
     "output_type": "execute_result"
    }
   ],
   "source": [
    "scores"
   ]
  },
  {
   "cell_type": "markdown",
   "metadata": {},
   "source": [
    "#### Cross-validation accuracy"
   ]
  },
  {
   "cell_type": "code",
   "execution_count": 17,
   "metadata": {},
   "outputs": [
    {
     "data": {
      "text/plain": [
       "0.81186161423427095"
      ]
     },
     "execution_count": 17,
     "metadata": {},
     "output_type": "execute_result"
    }
   ],
   "source": [
    "scores.mean()"
   ]
  },
  {
   "cell_type": "markdown",
   "metadata": {},
   "source": [
    "### Only words"
   ]
  },
  {
   "cell_type": "code",
   "execution_count": 46,
   "metadata": {
    "collapsed": true
   },
   "outputs": [],
   "source": [
    "word_ingr = Pipeline([\n",
    "    (\"words\", TfidfVectorizer(strip_accents='unicode',\n",
    "                              preprocessor=combine_words)),\n",
    "    (\"linear svc\", SVC(kernel=\"linear\", C=10**0))\n",
    "])"
   ]
  },
  {
   "cell_type": "code",
   "execution_count": 47,
   "metadata": {},
   "outputs": [
    {
     "name": "stdout",
     "output_type": "stream",
     "text": [
      "CPU times: user 2.9 s, sys: 164 ms, total: 3.07 s\n",
      "Wall time: 2min 52s\n"
     ]
    }
   ],
   "source": [
    "%%time\n",
    "scores = cross_val_score(word_ingr, get_ingrs(train), get_labels(train), cv=5, n_jobs=-1)"
   ]
  },
  {
   "cell_type": "code",
   "execution_count": 48,
   "metadata": {},
   "outputs": [
    {
     "data": {
      "text/plain": [
       "array([ 0.78447626,  0.79228449,  0.78657617,  0.78065652,  0.79099031])"
      ]
     },
     "execution_count": 48,
     "metadata": {},
     "output_type": "execute_result"
    }
   ],
   "source": [
    "scores"
   ]
  },
  {
   "cell_type": "markdown",
   "metadata": {},
   "source": [
    "#### Cross-validation accuracy"
   ]
  },
  {
   "cell_type": "code",
   "execution_count": 49,
   "metadata": {},
   "outputs": [
    {
     "data": {
      "text/plain": [
       "0.78699675135350899"
      ]
     },
     "execution_count": 49,
     "metadata": {},
     "output_type": "execute_result"
    }
   ],
   "source": [
    "# C=1\n",
    "scores.mean()"
   ]
  },
  {
   "cell_type": "code",
   "execution_count": 45,
   "metadata": {},
   "outputs": [
    {
     "data": {
      "text/plain": [
       "0.78868098685056176"
      ]
     },
     "execution_count": 45,
     "metadata": {},
     "output_type": "execute_result"
    }
   ],
   "source": [
    "# C=10**0.1 ~ 1.25\n",
    "scores.mean()"
   ]
  },
  {
   "cell_type": "markdown",
   "metadata": {},
   "source": [
    "## Fitting to test data (after encoding all of train+test ingredients)"
   ]
  },
  {
   "cell_type": "code",
   "execution_count": 19,
   "metadata": {},
   "outputs": [
    {
     "name": "stdout",
     "output_type": "stream",
     "text": [
      "CPU times: user 3.41 s, sys: 6.75 ms, total: 3.42 s\n",
      "Wall time: 3.42 s\n"
     ]
    }
   ],
   "source": [
    "%%time\n",
    "dvec_all = FeatureUnion([\n",
    "        (\"ingrs\", TfidfVectorizer(strip_accents='unicode',\n",
    "                                  tokenizer=itself,\n",
    "                                  preprocessor=itself)),\n",
    "        (\"words\", TfidfVectorizer(strip_accents='unicode',\n",
    "                                  preprocessor=combine_words)),\n",
    "        ]).fit(get_ingrs(train+test))"
   ]
  },
  {
   "cell_type": "code",
   "execution_count": 20,
   "metadata": {
    "collapsed": true
   },
   "outputs": [],
   "source": [
    "test_bag = dvec_all.transform(get_ingrs(test))"
   ]
  },
  {
   "cell_type": "code",
   "execution_count": 26,
   "metadata": {
    "collapsed": true
   },
   "outputs": [],
   "source": [
    "svc_rbf = SVC(kernel=\"rbf\", C=100, gamma=1)\n",
    "ovr = OneVsRestClassifier(svc_rbf, n_jobs=4)"
   ]
  },
  {
   "cell_type": "code",
   "execution_count": 23,
   "metadata": {
    "collapsed": true
   },
   "outputs": [],
   "source": [
    "from time import strftime\n",
    "\n",
    "def print_time():\n",
    "    print(strftime('%y%m%d-%H%M%S'))\n",
    "    return"
   ]
  },
  {
   "cell_type": "code",
   "execution_count": null,
   "metadata": {},
   "outputs": [
    {
     "name": "stdout",
     "output_type": "stream",
     "text": [
      "180406-182743\n"
     ]
    }
   ],
   "source": [
    "%%time\n",
    "print_time()\n",
    "\n",
    "ovr = ovr.fit(dvec_all.transform(get_ingrs(train)), get_labels(train))\n",
    "\n",
    "print_time()"
   ]
  },
  {
   "cell_type": "code",
   "execution_count": 35,
   "metadata": {},
   "outputs": [
    {
     "data": {
      "text/plain": [
       "array(['brazilian', 'british', 'cajun_creole', 'chinese', 'filipino',\n",
       "       'french', 'greek', 'indian', 'irish', 'italian', 'jamaican',\n",
       "       'japanese', 'korean', 'mexican', 'moroccan', 'russian',\n",
       "       'southern_us', 'spanish', 'thai', 'vietnamese'],\n",
       "      dtype='<U12')"
      ]
     },
     "execution_count": 35,
     "metadata": {},
     "output_type": "execute_result"
    }
   ],
   "source": [
    "ovr.classes_"
   ]
  },
  {
   "cell_type": "code",
   "execution_count": 36,
   "metadata": {},
   "outputs": [
    {
     "data": {
      "text/plain": [
       "{'C': 1.2589254117941673,\n",
       " 'cache_size': 200,\n",
       " 'class_weight': None,\n",
       " 'coef0': 0.0,\n",
       " 'decision_function_shape': 'ovr',\n",
       " 'degree': 3,\n",
       " 'gamma': 'auto',\n",
       " 'kernel': 'linear',\n",
       " 'max_iter': -1,\n",
       " 'probability': False,\n",
       " 'random_state': None,\n",
       " 'shrinking': True,\n",
       " 'tol': 0.001,\n",
       " 'verbose': False}"
      ]
     },
     "execution_count": 36,
     "metadata": {},
     "output_type": "execute_result"
    }
   ],
   "source": [
    "ovr.get_params()"
   ]
  },
  {
   "cell_type": "code",
   "execution_count": 37,
   "metadata": {
    "collapsed": true
   },
   "outputs": [],
   "source": [
    "test_preds = svc_rbf.predict(dvec_all.transform(get_ingrs(test)))"
   ]
  },
  {
   "cell_type": "code",
   "execution_count": 38,
   "metadata": {},
   "outputs": [
    {
     "data": {
      "text/plain": [
       "(9944,)"
      ]
     },
     "execution_count": 38,
     "metadata": {},
     "output_type": "execute_result"
    }
   ],
   "source": [
    "test_preds.shape"
   ]
  },
  {
   "cell_type": "code",
   "execution_count": 39,
   "metadata": {
    "collapsed": true
   },
   "outputs": [],
   "source": [
    "test_ids = [r['id'] for r in test]"
   ]
  },
  {
   "cell_type": "code",
   "execution_count": 40,
   "metadata": {
    "collapsed": true
   },
   "outputs": [],
   "source": [
    "df_test = pd.DataFrame([test_ids, list(test_preds)]).transpose()\n",
    "df_test.columns = ['id', 'cuisine']"
   ]
  },
  {
   "cell_type": "code",
   "execution_count": 41,
   "metadata": {
    "collapsed": true
   },
   "outputs": [],
   "source": [
    "df_test.to_csv('../_data/180406_clean_TFIDF_ingr_word_SVM_gridC.csv', index=False)"
   ]
  },
  {
   "cell_type": "markdown",
   "metadata": {},
   "source": [
    "## Results\n",
    "Accuracy 0.78921  \n",
    "Rank 468\n",
    "\n",
    "![kaggle image](../_images/180406_ingr_words.png)\n",
    "![kaggle image](../_images/180406_ingr_words_standing.png)"
   ]
  },
  {
   "cell_type": "markdown",
   "metadata": {},
   "source": [
    "## Possible improvements\n",
    "* Grid search on hyperparameters (kernel type, etc.)"
   ]
  }
 ],
 "metadata": {
  "kernelspec": {
   "display_name": "Python 3",
   "language": "python",
   "name": "python3"
  },
  "language_info": {
   "codemirror_mode": {
    "name": "ipython",
    "version": 3
   },
   "file_extension": ".py",
   "mimetype": "text/x-python",
   "name": "python",
   "nbconvert_exporter": "python",
   "pygments_lexer": "ipython3",
   "version": "3.6.3"
  }
 },
 "nbformat": 4,
 "nbformat_minor": 2
}
