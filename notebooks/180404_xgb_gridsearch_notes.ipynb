{
 "cells": [
  {
   "cell_type": "code",
   "execution_count": 1,
   "metadata": {
    "collapsed": true
   },
   "outputs": [],
   "source": [
    "import numpy as np\n",
    "import json\n",
    "\n",
    "\n",
    "with open('../_data/train.json', 'r') as f:\n",
    "    train = json.load(f)\n",
    "with open('../_data/test.json', 'r') as f:\n",
    "    test = json.load(f)"
   ]
  },
  {
   "cell_type": "code",
   "execution_count": 2,
   "metadata": {},
   "outputs": [
    {
     "data": {
      "text/plain": [
       "(39774, 9944)"
      ]
     },
     "execution_count": 2,
     "metadata": {},
     "output_type": "execute_result"
    }
   ],
   "source": [
    "len(train), len(test)"
   ]
  },
  {
   "cell_type": "code",
   "execution_count": 3,
   "metadata": {},
   "outputs": [
    {
     "data": {
      "text/plain": [
       "{'cuisine': 'greek',\n",
       " 'id': 10259,\n",
       " 'ingredients': ['romaine lettuce',\n",
       "  'black olives',\n",
       "  'grape tomatoes',\n",
       "  'garlic',\n",
       "  'pepper',\n",
       "  'purple onion',\n",
       "  'seasoning',\n",
       "  'garbanzo beans',\n",
       "  'feta cheese crumbles']}"
      ]
     },
     "execution_count": 3,
     "metadata": {},
     "output_type": "execute_result"
    }
   ],
   "source": [
    "train[0]"
   ]
  },
  {
   "cell_type": "markdown",
   "metadata": {},
   "source": [
    "## Pipeline using DictVectorizer (bag of ingredients) and SVC"
   ]
  },
  {
   "cell_type": "code",
   "execution_count": 4,
   "metadata": {
    "collapsed": true
   },
   "outputs": [],
   "source": [
    "from sklearn.feature_extraction.text import CountVectorizer\n",
    "from sklearn.feature_extraction import DictVectorizer\n",
    "from sklearn.feature_extraction.text import TfidfVectorizer\n",
    "\n",
    "from sklearn.pipeline import Pipeline\n",
    "from sklearn.svm import SVC\n",
    "from sklearn.metrics import accuracy_score\n",
    "from sklearn.model_selection import cross_val_score"
   ]
  },
  {
   "cell_type": "code",
   "execution_count": 5,
   "metadata": {
    "collapsed": true
   },
   "outputs": [],
   "source": [
    "def itself(x):\n",
    "    return x"
   ]
  },
  {
   "cell_type": "code",
   "execution_count": 21,
   "metadata": {
    "collapsed": true
   },
   "outputs": [],
   "source": [
    "from xgboost import XGBClassifier\n",
    "import xgboost as xgb"
   ]
  },
  {
   "cell_type": "code",
   "execution_count": 76,
   "metadata": {},
   "outputs": [],
   "source": [
    "xgbc = XGBClassifier(max_depth=5,\n",
    "              min_child_weight=1,\n",
    "              gamma=0,\n",
    "              subsample=0.8,\n",
    "              colsample_bytree=0.8,\n",
    "              scale_pos_weight=1,\n",
    "              objective='multi:softmax',\n",
    "              num_class=20)"
   ]
  },
  {
   "cell_type": "code",
   "execution_count": 108,
   "metadata": {},
   "outputs": [],
   "source": [
    "pipe = Pipeline([\n",
    "    (\"tfidf_vec\", TfidfVectorizer(tokenizer=itself,\n",
    "                                  preprocessor=itself,\n",
    "                                 )),\n",
    "    (\"xgbc\", xgbc)\n",
    "])"
   ]
  },
  {
   "cell_type": "code",
   "execution_count": 96,
   "metadata": {},
   "outputs": [
    {
     "data": {
      "text/plain": [
       "{'base_score': 0.5,\n",
       " 'booster': 'gblinear',\n",
       " 'colsample_bylevel': 1,\n",
       " 'colsample_bytree': 0.8,\n",
       " 'gamma': 0,\n",
       " 'learning_rate': 0.1,\n",
       " 'max_delta_step': 0,\n",
       " 'max_depth': 5,\n",
       " 'min_child_weight': 1,\n",
       " 'missing': None,\n",
       " 'n_estimators': 100,\n",
       " 'nthread': 1,\n",
       " 'num_class': 20,\n",
       " 'objective': 'multi:softmax',\n",
       " 'reg_alpha': 0,\n",
       " 'reg_lambda': 1,\n",
       " 'scale_pos_weight': 1,\n",
       " 'seed': 0,\n",
       " 'silent': 1,\n",
       " 'subsample': 0.8}"
      ]
     },
     "execution_count": 96,
     "metadata": {},
     "output_type": "execute_result"
    }
   ],
   "source": [
    "xgbc.get_xgb_params()"
   ]
  },
  {
   "cell_type": "code",
   "execution_count": 79,
   "metadata": {
    "collapsed": true
   },
   "outputs": [],
   "source": [
    "train_ingrs = get_ingrs(train)"
   ]
  },
  {
   "cell_type": "code",
   "execution_count": 80,
   "metadata": {
    "collapsed": true
   },
   "outputs": [],
   "source": [
    "tfidf_vec = TfidfVectorizer(tokenizer=itself,\n",
    "                            preprocessor=itself,\n",
    "                           )\n"
   ]
  },
  {
   "cell_type": "code",
   "execution_count": 81,
   "metadata": {},
   "outputs": [],
   "source": [
    "train_mat = tfidf_vec.fit_transform(train_ingrs)"
   ]
  },
  {
   "cell_type": "code",
   "execution_count": 82,
   "metadata": {},
   "outputs": [
    {
     "data": {
      "text/plain": [
       "<39774x6703 sparse matrix of type '<class 'numpy.float64'>'\n",
       "\twith 428249 stored elements in Compressed Sparse Row format>"
      ]
     },
     "execution_count": 82,
     "metadata": {},
     "output_type": "execute_result"
    }
   ],
   "source": [
    "train_mat"
   ]
  },
  {
   "cell_type": "code",
   "execution_count": 83,
   "metadata": {},
   "outputs": [
    {
     "data": {
      "text/plain": [
       "{'base_score': 0.5,\n",
       " 'booster': 'gbtree',\n",
       " 'colsample_bylevel': 1,\n",
       " 'colsample_bytree': 0.8,\n",
       " 'gamma': 0,\n",
       " 'learning_rate': 0.1,\n",
       " 'max_delta_step': 0,\n",
       " 'max_depth': 5,\n",
       " 'min_child_weight': 1,\n",
       " 'missing': None,\n",
       " 'n_estimators': 100,\n",
       " 'n_jobs': 1,\n",
       " 'nthread': None,\n",
       " 'num_class': 20,\n",
       " 'objective': 'multi:softmax',\n",
       " 'random_state': 0,\n",
       " 'reg_alpha': 0,\n",
       " 'reg_lambda': 1,\n",
       " 'scale_pos_weight': 1,\n",
       " 'seed': None,\n",
       " 'silent': True,\n",
       " 'subsample': 0.8}"
      ]
     },
     "execution_count": 83,
     "metadata": {},
     "output_type": "execute_result"
    }
   ],
   "source": [
    "xgbc.get_params()"
   ]
  },
  {
   "cell_type": "code",
   "execution_count": 84,
   "metadata": {},
   "outputs": [],
   "source": [
    "from sklearn.preprocessing import LabelEncoder"
   ]
  },
  {
   "cell_type": "code",
   "execution_count": 85,
   "metadata": {
    "collapsed": true
   },
   "outputs": [],
   "source": [
    "le = LabelEncoder()"
   ]
  },
  {
   "cell_type": "code",
   "execution_count": 86,
   "metadata": {},
   "outputs": [],
   "source": [
    "train_labels = le.fit_transform(get_labels(train))"
   ]
  },
  {
   "cell_type": "code",
   "execution_count": 87,
   "metadata": {},
   "outputs": [],
   "source": [
    "train_dm = xgb.DMatrix(data=train_mat, label=train_labels)"
   ]
  },
  {
   "cell_type": "code",
   "execution_count": 113,
   "metadata": {},
   "outputs": [],
   "source": [
    "xgbc = XGBClassifier(max_depth=5,\n",
    "              n_estimators=400,\n",
    "              min_child_weight=1,\n",
    "              gamma=0,\n",
    "              subsample=0.8,\n",
    "              colsample_bytree=0.8,\n",
    "              scale_pos_weight=1,\n",
    "              objective='multi:softmax',\n",
    "              num_class=20,\n",
    ")"
   ]
  },
  {
   "cell_type": "code",
   "execution_count": 92,
   "metadata": {},
   "outputs": [],
   "source": [
    "cv_res = xgb.cv(params=xgbc.get_xgb_params(),\n",
    "                dtrain=train_dm,\n",
    "                num_boost_round=xgbc.get_params()['n_estimators'],\n",
    "                nfold=5,\n",
    "                metrics='merror',\n",
    "                early_stopping_rounds=50,)"
   ]
  },
  {
   "cell_type": "code",
   "execution_count": 93,
   "metadata": {},
   "outputs": [
    {
     "data": {
      "text/html": [
       "<div>\n",
       "<style>\n",
       "    .dataframe thead tr:only-child th {\n",
       "        text-align: right;\n",
       "    }\n",
       "\n",
       "    .dataframe thead th {\n",
       "        text-align: left;\n",
       "    }\n",
       "\n",
       "    .dataframe tbody tr th {\n",
       "        vertical-align: top;\n",
       "    }\n",
       "</style>\n",
       "<table border=\"1\" class=\"dataframe\">\n",
       "  <thead>\n",
       "    <tr style=\"text-align: right;\">\n",
       "      <th></th>\n",
       "      <th>test-merror-mean</th>\n",
       "      <th>test-merror-std</th>\n",
       "      <th>train-merror-mean</th>\n",
       "      <th>train-merror-std</th>\n",
       "    </tr>\n",
       "  </thead>\n",
       "  <tbody>\n",
       "    <tr>\n",
       "      <th>0</th>\n",
       "      <td>0.491100</td>\n",
       "      <td>0.010000</td>\n",
       "      <td>0.475744</td>\n",
       "      <td>0.004700</td>\n",
       "    </tr>\n",
       "    <tr>\n",
       "      <th>1</th>\n",
       "      <td>0.437195</td>\n",
       "      <td>0.010293</td>\n",
       "      <td>0.419483</td>\n",
       "      <td>0.006491</td>\n",
       "    </tr>\n",
       "    <tr>\n",
       "      <th>2</th>\n",
       "      <td>0.419973</td>\n",
       "      <td>0.006007</td>\n",
       "      <td>0.399954</td>\n",
       "      <td>0.007211</td>\n",
       "    </tr>\n",
       "    <tr>\n",
       "      <th>3</th>\n",
       "      <td>0.407980</td>\n",
       "      <td>0.004936</td>\n",
       "      <td>0.384265</td>\n",
       "      <td>0.005241</td>\n",
       "    </tr>\n",
       "    <tr>\n",
       "      <th>4</th>\n",
       "      <td>0.400111</td>\n",
       "      <td>0.004968</td>\n",
       "      <td>0.376817</td>\n",
       "      <td>0.004378</td>\n",
       "    </tr>\n",
       "    <tr>\n",
       "      <th>5</th>\n",
       "      <td>0.394730</td>\n",
       "      <td>0.004124</td>\n",
       "      <td>0.369727</td>\n",
       "      <td>0.004602</td>\n",
       "    </tr>\n",
       "    <tr>\n",
       "      <th>6</th>\n",
       "      <td>0.391914</td>\n",
       "      <td>0.005298</td>\n",
       "      <td>0.365980</td>\n",
       "      <td>0.004739</td>\n",
       "    </tr>\n",
       "    <tr>\n",
       "      <th>7</th>\n",
       "      <td>0.388369</td>\n",
       "      <td>0.004935</td>\n",
       "      <td>0.361656</td>\n",
       "      <td>0.003250</td>\n",
       "    </tr>\n",
       "    <tr>\n",
       "      <th>8</th>\n",
       "      <td>0.385051</td>\n",
       "      <td>0.005228</td>\n",
       "      <td>0.357784</td>\n",
       "      <td>0.002693</td>\n",
       "    </tr>\n",
       "    <tr>\n",
       "      <th>9</th>\n",
       "      <td>0.383718</td>\n",
       "      <td>0.004857</td>\n",
       "      <td>0.354666</td>\n",
       "      <td>0.003983</td>\n",
       "    </tr>\n",
       "    <tr>\n",
       "      <th>10</th>\n",
       "      <td>0.380902</td>\n",
       "      <td>0.004343</td>\n",
       "      <td>0.351674</td>\n",
       "      <td>0.004056</td>\n",
       "    </tr>\n",
       "    <tr>\n",
       "      <th>11</th>\n",
       "      <td>0.378614</td>\n",
       "      <td>0.003588</td>\n",
       "      <td>0.347909</td>\n",
       "      <td>0.003960</td>\n",
       "    </tr>\n",
       "    <tr>\n",
       "      <th>12</th>\n",
       "      <td>0.375296</td>\n",
       "      <td>0.004171</td>\n",
       "      <td>0.344390</td>\n",
       "      <td>0.003444</td>\n",
       "    </tr>\n",
       "    <tr>\n",
       "      <th>13</th>\n",
       "      <td>0.373862</td>\n",
       "      <td>0.003686</td>\n",
       "      <td>0.341668</td>\n",
       "      <td>0.003292</td>\n",
       "    </tr>\n",
       "    <tr>\n",
       "      <th>14</th>\n",
       "      <td>0.372379</td>\n",
       "      <td>0.003774</td>\n",
       "      <td>0.339657</td>\n",
       "      <td>0.002591</td>\n",
       "    </tr>\n",
       "    <tr>\n",
       "      <th>15</th>\n",
       "      <td>0.370343</td>\n",
       "      <td>0.004324</td>\n",
       "      <td>0.336665</td>\n",
       "      <td>0.002048</td>\n",
       "    </tr>\n",
       "    <tr>\n",
       "      <th>16</th>\n",
       "      <td>0.369412</td>\n",
       "      <td>0.004241</td>\n",
       "      <td>0.334716</td>\n",
       "      <td>0.002382</td>\n",
       "    </tr>\n",
       "    <tr>\n",
       "      <th>17</th>\n",
       "      <td>0.366974</td>\n",
       "      <td>0.004190</td>\n",
       "      <td>0.331951</td>\n",
       "      <td>0.002851</td>\n",
       "    </tr>\n",
       "    <tr>\n",
       "      <th>18</th>\n",
       "      <td>0.365666</td>\n",
       "      <td>0.003613</td>\n",
       "      <td>0.329618</td>\n",
       "      <td>0.002450</td>\n",
       "    </tr>\n",
       "    <tr>\n",
       "      <th>19</th>\n",
       "      <td>0.364585</td>\n",
       "      <td>0.004748</td>\n",
       "      <td>0.326438</td>\n",
       "      <td>0.002154</td>\n",
       "    </tr>\n",
       "    <tr>\n",
       "      <th>20</th>\n",
       "      <td>0.362574</td>\n",
       "      <td>0.004893</td>\n",
       "      <td>0.324307</td>\n",
       "      <td>0.002206</td>\n",
       "    </tr>\n",
       "    <tr>\n",
       "      <th>21</th>\n",
       "      <td>0.361493</td>\n",
       "      <td>0.003919</td>\n",
       "      <td>0.322252</td>\n",
       "      <td>0.002320</td>\n",
       "    </tr>\n",
       "    <tr>\n",
       "      <th>22</th>\n",
       "      <td>0.359456</td>\n",
       "      <td>0.004163</td>\n",
       "      <td>0.319851</td>\n",
       "      <td>0.002252</td>\n",
       "    </tr>\n",
       "    <tr>\n",
       "      <th>23</th>\n",
       "      <td>0.357344</td>\n",
       "      <td>0.004786</td>\n",
       "      <td>0.317708</td>\n",
       "      <td>0.002397</td>\n",
       "    </tr>\n",
       "    <tr>\n",
       "      <th>24</th>\n",
       "      <td>0.355207</td>\n",
       "      <td>0.005289</td>\n",
       "      <td>0.315665</td>\n",
       "      <td>0.002393</td>\n",
       "    </tr>\n",
       "    <tr>\n",
       "      <th>25</th>\n",
       "      <td>0.353623</td>\n",
       "      <td>0.005612</td>\n",
       "      <td>0.312975</td>\n",
       "      <td>0.002280</td>\n",
       "    </tr>\n",
       "    <tr>\n",
       "      <th>26</th>\n",
       "      <td>0.352190</td>\n",
       "      <td>0.004958</td>\n",
       "      <td>0.310743</td>\n",
       "      <td>0.001979</td>\n",
       "    </tr>\n",
       "    <tr>\n",
       "      <th>27</th>\n",
       "      <td>0.350732</td>\n",
       "      <td>0.004575</td>\n",
       "      <td>0.308669</td>\n",
       "      <td>0.001906</td>\n",
       "    </tr>\n",
       "    <tr>\n",
       "      <th>28</th>\n",
       "      <td>0.349374</td>\n",
       "      <td>0.004396</td>\n",
       "      <td>0.306633</td>\n",
       "      <td>0.002240</td>\n",
       "    </tr>\n",
       "    <tr>\n",
       "      <th>29</th>\n",
       "      <td>0.347740</td>\n",
       "      <td>0.004439</td>\n",
       "      <td>0.304703</td>\n",
       "      <td>0.002157</td>\n",
       "    </tr>\n",
       "    <tr>\n",
       "      <th>...</th>\n",
       "      <td>...</td>\n",
       "      <td>...</td>\n",
       "      <td>...</td>\n",
       "      <td>...</td>\n",
       "    </tr>\n",
       "    <tr>\n",
       "      <th>70</th>\n",
       "      <td>0.310253</td>\n",
       "      <td>0.005042</td>\n",
       "      <td>0.243796</td>\n",
       "      <td>0.002517</td>\n",
       "    </tr>\n",
       "    <tr>\n",
       "      <th>71</th>\n",
       "      <td>0.309926</td>\n",
       "      <td>0.005413</td>\n",
       "      <td>0.242495</td>\n",
       "      <td>0.002389</td>\n",
       "    </tr>\n",
       "    <tr>\n",
       "      <th>72</th>\n",
       "      <td>0.309046</td>\n",
       "      <td>0.005065</td>\n",
       "      <td>0.241402</td>\n",
       "      <td>0.002135</td>\n",
       "    </tr>\n",
       "    <tr>\n",
       "      <th>73</th>\n",
       "      <td>0.307990</td>\n",
       "      <td>0.005047</td>\n",
       "      <td>0.240232</td>\n",
       "      <td>0.002226</td>\n",
       "    </tr>\n",
       "    <tr>\n",
       "      <th>74</th>\n",
       "      <td>0.307714</td>\n",
       "      <td>0.004989</td>\n",
       "      <td>0.239258</td>\n",
       "      <td>0.002077</td>\n",
       "    </tr>\n",
       "    <tr>\n",
       "      <th>75</th>\n",
       "      <td>0.307186</td>\n",
       "      <td>0.004958</td>\n",
       "      <td>0.238058</td>\n",
       "      <td>0.002152</td>\n",
       "    </tr>\n",
       "    <tr>\n",
       "      <th>76</th>\n",
       "      <td>0.306884</td>\n",
       "      <td>0.005093</td>\n",
       "      <td>0.236863</td>\n",
       "      <td>0.002244</td>\n",
       "    </tr>\n",
       "    <tr>\n",
       "      <th>77</th>\n",
       "      <td>0.305753</td>\n",
       "      <td>0.004880</td>\n",
       "      <td>0.235807</td>\n",
       "      <td>0.002110</td>\n",
       "    </tr>\n",
       "    <tr>\n",
       "      <th>78</th>\n",
       "      <td>0.305200</td>\n",
       "      <td>0.004933</td>\n",
       "      <td>0.234858</td>\n",
       "      <td>0.002038</td>\n",
       "    </tr>\n",
       "    <tr>\n",
       "      <th>79</th>\n",
       "      <td>0.304596</td>\n",
       "      <td>0.005078</td>\n",
       "      <td>0.233815</td>\n",
       "      <td>0.001862</td>\n",
       "    </tr>\n",
       "    <tr>\n",
       "      <th>80</th>\n",
       "      <td>0.304118</td>\n",
       "      <td>0.005178</td>\n",
       "      <td>0.232734</td>\n",
       "      <td>0.001819</td>\n",
       "    </tr>\n",
       "    <tr>\n",
       "      <th>81</th>\n",
       "      <td>0.303565</td>\n",
       "      <td>0.005690</td>\n",
       "      <td>0.231684</td>\n",
       "      <td>0.001906</td>\n",
       "    </tr>\n",
       "    <tr>\n",
       "      <th>82</th>\n",
       "      <td>0.303063</td>\n",
       "      <td>0.005447</td>\n",
       "      <td>0.230829</td>\n",
       "      <td>0.001753</td>\n",
       "    </tr>\n",
       "    <tr>\n",
       "      <th>83</th>\n",
       "      <td>0.302736</td>\n",
       "      <td>0.005265</td>\n",
       "      <td>0.229591</td>\n",
       "      <td>0.001617</td>\n",
       "    </tr>\n",
       "    <tr>\n",
       "      <th>84</th>\n",
       "      <td>0.302183</td>\n",
       "      <td>0.005245</td>\n",
       "      <td>0.228648</td>\n",
       "      <td>0.001704</td>\n",
       "    </tr>\n",
       "    <tr>\n",
       "      <th>85</th>\n",
       "      <td>0.301353</td>\n",
       "      <td>0.004809</td>\n",
       "      <td>0.227913</td>\n",
       "      <td>0.001605</td>\n",
       "    </tr>\n",
       "    <tr>\n",
       "      <th>86</th>\n",
       "      <td>0.300674</td>\n",
       "      <td>0.004826</td>\n",
       "      <td>0.226750</td>\n",
       "      <td>0.001706</td>\n",
       "    </tr>\n",
       "    <tr>\n",
       "      <th>87</th>\n",
       "      <td>0.300649</td>\n",
       "      <td>0.004822</td>\n",
       "      <td>0.225706</td>\n",
       "      <td>0.001790</td>\n",
       "    </tr>\n",
       "    <tr>\n",
       "      <th>88</th>\n",
       "      <td>0.300196</td>\n",
       "      <td>0.005424</td>\n",
       "      <td>0.224701</td>\n",
       "      <td>0.001723</td>\n",
       "    </tr>\n",
       "    <tr>\n",
       "      <th>89</th>\n",
       "      <td>0.299568</td>\n",
       "      <td>0.005255</td>\n",
       "      <td>0.223720</td>\n",
       "      <td>0.001687</td>\n",
       "    </tr>\n",
       "    <tr>\n",
       "      <th>90</th>\n",
       "      <td>0.299115</td>\n",
       "      <td>0.004899</td>\n",
       "      <td>0.222859</td>\n",
       "      <td>0.001665</td>\n",
       "    </tr>\n",
       "    <tr>\n",
       "      <th>91</th>\n",
       "      <td>0.298386</td>\n",
       "      <td>0.004913</td>\n",
       "      <td>0.222074</td>\n",
       "      <td>0.001697</td>\n",
       "    </tr>\n",
       "    <tr>\n",
       "      <th>92</th>\n",
       "      <td>0.298135</td>\n",
       "      <td>0.005169</td>\n",
       "      <td>0.220974</td>\n",
       "      <td>0.001642</td>\n",
       "    </tr>\n",
       "    <tr>\n",
       "      <th>93</th>\n",
       "      <td>0.297431</td>\n",
       "      <td>0.004957</td>\n",
       "      <td>0.220006</td>\n",
       "      <td>0.001610</td>\n",
       "    </tr>\n",
       "    <tr>\n",
       "      <th>94</th>\n",
       "      <td>0.297104</td>\n",
       "      <td>0.004944</td>\n",
       "      <td>0.219264</td>\n",
       "      <td>0.001529</td>\n",
       "    </tr>\n",
       "    <tr>\n",
       "      <th>95</th>\n",
       "      <td>0.296702</td>\n",
       "      <td>0.005009</td>\n",
       "      <td>0.218465</td>\n",
       "      <td>0.001468</td>\n",
       "    </tr>\n",
       "    <tr>\n",
       "      <th>96</th>\n",
       "      <td>0.295847</td>\n",
       "      <td>0.005451</td>\n",
       "      <td>0.217642</td>\n",
       "      <td>0.001464</td>\n",
       "    </tr>\n",
       "    <tr>\n",
       "      <th>97</th>\n",
       "      <td>0.295193</td>\n",
       "      <td>0.005356</td>\n",
       "      <td>0.216680</td>\n",
       "      <td>0.001353</td>\n",
       "    </tr>\n",
       "    <tr>\n",
       "      <th>98</th>\n",
       "      <td>0.294942</td>\n",
       "      <td>0.005060</td>\n",
       "      <td>0.215826</td>\n",
       "      <td>0.001315</td>\n",
       "    </tr>\n",
       "    <tr>\n",
       "      <th>99</th>\n",
       "      <td>0.294640</td>\n",
       "      <td>0.005210</td>\n",
       "      <td>0.214807</td>\n",
       "      <td>0.001206</td>\n",
       "    </tr>\n",
       "  </tbody>\n",
       "</table>\n",
       "<p>100 rows × 4 columns</p>\n",
       "</div>"
      ],
      "text/plain": [
       "    test-merror-mean  test-merror-std  train-merror-mean  train-merror-std\n",
       "0           0.491100         0.010000           0.475744          0.004700\n",
       "1           0.437195         0.010293           0.419483          0.006491\n",
       "2           0.419973         0.006007           0.399954          0.007211\n",
       "3           0.407980         0.004936           0.384265          0.005241\n",
       "4           0.400111         0.004968           0.376817          0.004378\n",
       "5           0.394730         0.004124           0.369727          0.004602\n",
       "6           0.391914         0.005298           0.365980          0.004739\n",
       "7           0.388369         0.004935           0.361656          0.003250\n",
       "8           0.385051         0.005228           0.357784          0.002693\n",
       "9           0.383718         0.004857           0.354666          0.003983\n",
       "10          0.380902         0.004343           0.351674          0.004056\n",
       "11          0.378614         0.003588           0.347909          0.003960\n",
       "12          0.375296         0.004171           0.344390          0.003444\n",
       "13          0.373862         0.003686           0.341668          0.003292\n",
       "14          0.372379         0.003774           0.339657          0.002591\n",
       "15          0.370343         0.004324           0.336665          0.002048\n",
       "16          0.369412         0.004241           0.334716          0.002382\n",
       "17          0.366974         0.004190           0.331951          0.002851\n",
       "18          0.365666         0.003613           0.329618          0.002450\n",
       "19          0.364585         0.004748           0.326438          0.002154\n",
       "20          0.362574         0.004893           0.324307          0.002206\n",
       "21          0.361493         0.003919           0.322252          0.002320\n",
       "22          0.359456         0.004163           0.319851          0.002252\n",
       "23          0.357344         0.004786           0.317708          0.002397\n",
       "24          0.355207         0.005289           0.315665          0.002393\n",
       "25          0.353623         0.005612           0.312975          0.002280\n",
       "26          0.352190         0.004958           0.310743          0.001979\n",
       "27          0.350732         0.004575           0.308669          0.001906\n",
       "28          0.349374         0.004396           0.306633          0.002240\n",
       "29          0.347740         0.004439           0.304703          0.002157\n",
       "..               ...              ...                ...               ...\n",
       "70          0.310253         0.005042           0.243796          0.002517\n",
       "71          0.309926         0.005413           0.242495          0.002389\n",
       "72          0.309046         0.005065           0.241402          0.002135\n",
       "73          0.307990         0.005047           0.240232          0.002226\n",
       "74          0.307714         0.004989           0.239258          0.002077\n",
       "75          0.307186         0.004958           0.238058          0.002152\n",
       "76          0.306884         0.005093           0.236863          0.002244\n",
       "77          0.305753         0.004880           0.235807          0.002110\n",
       "78          0.305200         0.004933           0.234858          0.002038\n",
       "79          0.304596         0.005078           0.233815          0.001862\n",
       "80          0.304118         0.005178           0.232734          0.001819\n",
       "81          0.303565         0.005690           0.231684          0.001906\n",
       "82          0.303063         0.005447           0.230829          0.001753\n",
       "83          0.302736         0.005265           0.229591          0.001617\n",
       "84          0.302183         0.005245           0.228648          0.001704\n",
       "85          0.301353         0.004809           0.227913          0.001605\n",
       "86          0.300674         0.004826           0.226750          0.001706\n",
       "87          0.300649         0.004822           0.225706          0.001790\n",
       "88          0.300196         0.005424           0.224701          0.001723\n",
       "89          0.299568         0.005255           0.223720          0.001687\n",
       "90          0.299115         0.004899           0.222859          0.001665\n",
       "91          0.298386         0.004913           0.222074          0.001697\n",
       "92          0.298135         0.005169           0.220974          0.001642\n",
       "93          0.297431         0.004957           0.220006          0.001610\n",
       "94          0.297104         0.004944           0.219264          0.001529\n",
       "95          0.296702         0.005009           0.218465          0.001468\n",
       "96          0.295847         0.005451           0.217642          0.001464\n",
       "97          0.295193         0.005356           0.216680          0.001353\n",
       "98          0.294942         0.005060           0.215826          0.001315\n",
       "99          0.294640         0.005210           0.214807          0.001206\n",
       "\n",
       "[100 rows x 4 columns]"
      ]
     },
     "execution_count": 93,
     "metadata": {},
     "output_type": "execute_result"
    }
   ],
   "source": [
    "cv_res"
   ]
  },
  {
   "cell_type": "code",
   "execution_count": 115,
   "metadata": {
    "collapsed": true
   },
   "outputs": [],
   "source": [
    "pipe = Pipeline([\n",
    "    (\"tfidf_vec\", TfidfVectorizer(tokenizer=itself,\n",
    "                                  preprocessor=itself,\n",
    "                                 )),\n",
    "    (\"xgbc\", xgbc)\n",
    "])"
   ]
  },
  {
   "cell_type": "code",
   "execution_count": 116,
   "metadata": {
    "collapsed": true
   },
   "outputs": [],
   "source": [
    "def get_ingrs(given):\n",
    "    ingrs = [[i.lower() for i in recipe['ingredients']] for recipe in given]\n",
    "    return ingrs\n",
    "\n",
    "def get_labels(given):\n",
    "    return [r['cuisine'] for r in given]"
   ]
  },
  {
   "cell_type": "code",
   "execution_count": 117,
   "metadata": {
    "scrolled": true
   },
   "outputs": [
    {
     "name": "stdout",
     "output_type": "stream",
     "text": [
      "CPU times: user 1.39 s, sys: 288 ms, total: 1.68 s\n",
      "Wall time: 10min 52s\n"
     ]
    }
   ],
   "source": [
    "%%time\n",
    "scores = cross_val_score(pipe, get_ingrs(train), get_labels(train), cv=5, n_jobs=-1, verbose=10)"
   ]
  },
  {
   "cell_type": "code",
   "execution_count": 118,
   "metadata": {},
   "outputs": [
    {
     "data": {
      "text/plain": [
       "array([ 0.75194675,  0.75596884,  0.75653595,  0.74569237,  0.75261105])"
      ]
     },
     "execution_count": 118,
     "metadata": {},
     "output_type": "execute_result"
    }
   ],
   "source": [
    "scores"
   ]
  },
  {
   "cell_type": "markdown",
   "metadata": {},
   "source": [
    "#### Cross-validation accuracy"
   ]
  },
  {
   "cell_type": "code",
   "execution_count": 119,
   "metadata": {},
   "outputs": [
    {
     "data": {
      "text/plain": [
       "0.75255098901727946"
      ]
     },
     "execution_count": 119,
     "metadata": {},
     "output_type": "execute_result"
    }
   ],
   "source": [
    "scores.mean()"
   ]
  },
  {
   "cell_type": "markdown",
   "metadata": {},
   "source": [
    "# Grid search to tune `C` parameter"
   ]
  },
  {
   "cell_type": "code",
   "execution_count": 8,
   "metadata": {
    "collapsed": true
   },
   "outputs": [],
   "source": [
    "from sklearn.model_selection import GridSearchCV"
   ]
  },
  {
   "cell_type": "code",
   "execution_count": 9,
   "metadata": {
    "collapsed": true
   },
   "outputs": [],
   "source": [
    "svc = Pipeline([\n",
    "    (\"tfidf_vec\", TfidfVectorizer(tokenizer=itself,\n",
    "                                  preprocessor=itself,\n",
    "                                  strip_accents='unicode',\n",
    "                                 )),\n",
    "    (\"svc\", SVC(kernel=\"linear\"))])"
   ]
  },
  {
   "cell_type": "markdown",
   "metadata": {},
   "source": [
    "# Searching on 1e-4, 1e-3, 1e-2, 1e-1, 1e0, 1e1"
   ]
  },
  {
   "cell_type": "code",
   "execution_count": 65,
   "metadata": {},
   "outputs": [
    {
     "name": "stdout",
     "output_type": "stream",
     "text": [
      "CPU times: user 1min 57s, sys: 1.3 s, total: 1min 58s\n",
      "Wall time: 39min 16s\n"
     ]
    },
    {
     "data": {
      "text/plain": [
       "GridSearchCV(cv=3, error_score='raise',\n",
       "       estimator=Pipeline(memory=None,\n",
       "     steps=[('tfidf_vec', TfidfVectorizer(analyzer='word', binary=False, decode_error='strict',\n",
       "        dtype=<class 'numpy.int64'>, encoding='utf-8', input='content',\n",
       "        lowercase=True, max_df=1.0, max_features=None, min_df=1,\n",
       "        ngram_range=(1, 1), norm='l2',\n",
       "        preprocessor=<function it...,\n",
       "  max_iter=-1, probability=False, random_state=None, shrinking=True,\n",
       "  tol=0.001, verbose=False))]),\n",
       "       fit_params=None, iid=True, n_jobs=-1,\n",
       "       param_grid={'svc__C': array([  1.00000e-04,   1.00000e-03,   1.00000e-02,   1.00000e-01,\n",
       "         1.00000e+00,   1.00000e+01]), 'svc__class_weight': [None, 'balanced']},\n",
       "       pre_dispatch='2*n_jobs', refit=True, return_train_score='warn',\n",
       "       scoring='accuracy', verbose=0)"
      ]
     },
     "execution_count": 65,
     "metadata": {},
     "output_type": "execute_result"
    }
   ],
   "source": [
    "%%time\n",
    "grid.fit(get_ingrs(train), get_labels(train))"
   ]
  },
  {
   "cell_type": "code",
   "execution_count": 66,
   "metadata": {},
   "outputs": [
    {
     "data": {
      "text/plain": [
       "Pipeline(memory=None,\n",
       "     steps=[('tfidf_vec', TfidfVectorizer(analyzer='word', binary=False, decode_error='strict',\n",
       "        dtype=<class 'numpy.int64'>, encoding='utf-8', input='content',\n",
       "        lowercase=True, max_df=1.0, max_features=None, min_df=1,\n",
       "        ngram_range=(1, 1), norm='l2',\n",
       "        preprocessor=<function it...,\n",
       "  max_iter=-1, probability=False, random_state=None, shrinking=True,\n",
       "  tol=0.001, verbose=False))])"
      ]
     },
     "execution_count": 66,
     "metadata": {},
     "output_type": "execute_result"
    }
   ],
   "source": [
    "grid.best_estimator_"
   ]
  },
  {
   "cell_type": "code",
   "execution_count": 67,
   "metadata": {},
   "outputs": [
    {
     "data": {
      "text/plain": [
       "{'svc__C': 1.0, 'svc__class_weight': None}"
      ]
     },
     "execution_count": 67,
     "metadata": {},
     "output_type": "execute_result"
    }
   ],
   "source": [
    "grid.best_params_"
   ]
  },
  {
   "cell_type": "code",
   "execution_count": 68,
   "metadata": {},
   "outputs": [
    {
     "data": {
      "text/plain": [
       "0.77477749283451502"
      ]
     },
     "execution_count": 68,
     "metadata": {},
     "output_type": "execute_result"
    }
   ],
   "source": [
    "grid.best_score_"
   ]
  },
  {
   "cell_type": "code",
   "execution_count": 70,
   "metadata": {},
   "outputs": [
    {
     "name": "stderr",
     "output_type": "stream",
     "text": [
      "/home/aeatda/anaconda3/envs/cooking/lib/python3.6/site-packages/sklearn/utils/deprecation.py:122: FutureWarning: You are accessing a training score ('mean_train_score'), which will not be available by default any more in 0.21. If you need training scores, please set return_train_score=True\n",
      "  warnings.warn(*warn_args, **warn_kwargs)\n",
      "/home/aeatda/anaconda3/envs/cooking/lib/python3.6/site-packages/sklearn/utils/deprecation.py:122: FutureWarning: You are accessing a training score ('split0_train_score'), which will not be available by default any more in 0.21. If you need training scores, please set return_train_score=True\n",
      "  warnings.warn(*warn_args, **warn_kwargs)\n",
      "/home/aeatda/anaconda3/envs/cooking/lib/python3.6/site-packages/sklearn/utils/deprecation.py:122: FutureWarning: You are accessing a training score ('split1_train_score'), which will not be available by default any more in 0.21. If you need training scores, please set return_train_score=True\n",
      "  warnings.warn(*warn_args, **warn_kwargs)\n",
      "/home/aeatda/anaconda3/envs/cooking/lib/python3.6/site-packages/sklearn/utils/deprecation.py:122: FutureWarning: You are accessing a training score ('split2_train_score'), which will not be available by default any more in 0.21. If you need training scores, please set return_train_score=True\n",
      "  warnings.warn(*warn_args, **warn_kwargs)\n",
      "/home/aeatda/anaconda3/envs/cooking/lib/python3.6/site-packages/sklearn/utils/deprecation.py:122: FutureWarning: You are accessing a training score ('std_train_score'), which will not be available by default any more in 0.21. If you need training scores, please set return_train_score=True\n",
      "  warnings.warn(*warn_args, **warn_kwargs)\n"
     ]
    },
    {
     "data": {
      "text/plain": [
       "{'mean_fit_time': array([ 236.65419793,  517.4493014 ,  250.05366262,  581.02797771,\n",
       "         265.26640757,  569.02121663,  184.71976638,  306.7764136 ,\n",
       "         110.32019742,  152.12040401,  107.05606683,   83.58189861]),\n",
       " 'mean_score_time': array([ 76.0904185 ,  81.39194083,  76.64345336,  79.28446945,\n",
       "         77.04823335,  78.87881748,  62.78142309,  72.68669653,\n",
       "         49.61088181,  55.21994917,  48.21731702,  37.58955971]),\n",
       " 'mean_test_score': array([ 0.19706341,  0.03992558,  0.19706341,  0.03323779,  0.40772867,\n",
       "         0.45391462,  0.67642178,  0.7050083 ,  0.77477749,  0.74935888,\n",
       "         0.74742294,  0.74158998]),\n",
       " 'mean_train_score': array([ 0.19706341,  0.03990944,  0.19706341,  0.03322874,  0.41014263,\n",
       "         0.46456417,  0.69591937,  0.74118759,  0.87562239,  0.86501255,\n",
       "         0.97152672,  0.95688152]),\n",
       " 'param_svc__C': masked_array(data = [0.0001 0.0001 0.001 0.001 0.01 0.01 0.10000000000000001\n",
       "  0.10000000000000001 1.0 1.0 10.0 10.0],\n",
       "              mask = [False False False False False False False False False False False False],\n",
       "        fill_value = ?),\n",
       " 'param_svc__class_weight': masked_array(data = [None 'balanced' None 'balanced' None 'balanced' None 'balanced' None\n",
       "  'balanced' None 'balanced'],\n",
       "              mask = [False False False False False False False False False False False False],\n",
       "        fill_value = ?),\n",
       " 'params': [{'svc__C': 0.0001, 'svc__class_weight': None},\n",
       "  {'svc__C': 0.0001, 'svc__class_weight': 'balanced'},\n",
       "  {'svc__C': 0.001, 'svc__class_weight': None},\n",
       "  {'svc__C': 0.001, 'svc__class_weight': 'balanced'},\n",
       "  {'svc__C': 0.01, 'svc__class_weight': None},\n",
       "  {'svc__C': 0.01, 'svc__class_weight': 'balanced'},\n",
       "  {'svc__C': 0.10000000000000001, 'svc__class_weight': None},\n",
       "  {'svc__C': 0.10000000000000001, 'svc__class_weight': 'balanced'},\n",
       "  {'svc__C': 1.0, 'svc__class_weight': None},\n",
       "  {'svc__C': 1.0, 'svc__class_weight': 'balanced'},\n",
       "  {'svc__C': 10.0, 'svc__class_weight': None},\n",
       "  {'svc__C': 10.0, 'svc__class_weight': 'balanced'}],\n",
       " 'rank_test_score': array([ 9, 11,  9, 12,  8,  7,  6,  5,  1,  2,  3,  4], dtype=int32),\n",
       " 'split0_test_score': array([ 0.19701425,  0.01681369,  0.19701425,  0.06650079,  0.4072985 ,\n",
       "         0.41785418,  0.67277388,  0.7021036 ,  0.77380683,  0.74809621,\n",
       "         0.74862399,  0.74025484]),\n",
       " 'split0_train_score': array([ 0.197088  ,  0.01674777,  0.197088  ,  0.06653842,  0.41118781,\n",
       "         0.42638905,  0.69586209,  0.74044736,  0.87657953,  0.86484855,\n",
       "         0.97223794,  0.95726302]),\n",
       " 'split1_test_score': array([ 0.19707369,  0.0357493 ,  0.19707369,  0.02089147,  0.40923147,\n",
       "         0.39173392,  0.67878422,  0.70367298,  0.77305981,  0.74794479,\n",
       "         0.74289162,  0.73534957]),\n",
       " 'split1_train_score': array([ 0.19705827,  0.03579106,  0.19705827,  0.02085612,  0.4122195 ,\n",
       "         0.40316802,  0.69511597,  0.74101452,  0.87554215,  0.86784839,\n",
       "         0.97148784,  0.95791062]),\n",
       " 'split2_test_score': array([ 0.19710232,  0.06723513,  0.19710232,  0.01230003,  0.4066556 ,\n",
       "         0.55221853,  0.67770903,  0.70925143,  0.77746755,  0.75203743,\n",
       "         0.7507546 ,  0.74916994]),\n",
       " 'split2_train_score': array([ 0.19704396,  0.0671895 ,  0.19704396,  0.01229168,  0.40702059,\n",
       "         0.56413543,  0.69678003,  0.7421009 ,  0.87474549,  0.8623407 ,\n",
       "         0.97085439,  0.95547093]),\n",
       " 'std_fit_time': array([  1.86250472,   5.03978553,   6.56698973,   2.28220916,\n",
       "          2.72182212,   2.31283929,   3.17545819,   7.92372256,\n",
       "          2.38708519,   0.87052793,   2.2704273 ,  12.04164161]),\n",
       " 'std_score_time': array([ 0.62151367,  1.20566068,  1.09878904,  1.04179431,  0.88578141,\n",
       "         1.54511725,  1.09993491,  1.54183674,  0.5796699 ,  1.04644807,\n",
       "         2.38989141,  9.16444138]),\n",
       " 'std_test_score': array([  3.66825490e-05,   2.07948523e-02,   3.66825490e-05,\n",
       "          2.37871047e-02,   1.09462942e-03,   7.03014062e-02,\n",
       "          2.61724919e-03,   3.06701500e-03,   1.92581980e-03,\n",
       "          1.89438753e-03,   3.32026238e-03,   5.72009923e-03]),\n",
       " 'std_train_score': array([  1.83423427e-05,   2.07976446e-02,   1.83423427e-05,\n",
       "          2.38115993e-02,   2.24743822e-03,   7.10428610e-02,\n",
       "          6.80555445e-04,   6.86056805e-04,   7.50890123e-04,\n",
       "          2.25149298e-03,   5.65502315e-04,   1.03188324e-03])}"
      ]
     },
     "execution_count": 70,
     "metadata": {},
     "output_type": "execute_result"
    }
   ],
   "source": [
    "grid.cv_results_"
   ]
  },
  {
   "cell_type": "markdown",
   "metadata": {},
   "source": [
    "# Searching on 10^-1, 10^-.75, ..., 10^.75, 10^1"
   ]
  },
  {
   "cell_type": "code",
   "execution_count": 12,
   "metadata": {
    "collapsed": true
   },
   "outputs": [],
   "source": [
    "c_vals = np.logspace(-1, 1, 9)"
   ]
  },
  {
   "cell_type": "code",
   "execution_count": 13,
   "metadata": {
    "collapsed": true
   },
   "outputs": [],
   "source": [
    "param_grid = {\n",
    "    'svc__C': c_vals,\n",
    "}"
   ]
  },
  {
   "cell_type": "code",
   "execution_count": 14,
   "metadata": {
    "collapsed": true
   },
   "outputs": [],
   "source": [
    "grid = GridSearchCV(svc,\n",
    "                    param_grid=param_grid,\n",
    "                    cv=3,\n",
    "                    scoring='accuracy',\n",
    "                    n_jobs=-1)"
   ]
  },
  {
   "cell_type": "code",
   "execution_count": 15,
   "metadata": {},
   "outputs": [
    {
     "name": "stdout",
     "output_type": "stream",
     "text": [
      "CPU times: user 1min 34s, sys: 704 ms, total: 1min 35s\n",
      "Wall time: 17min 58s\n"
     ]
    },
    {
     "data": {
      "text/plain": [
       "GridSearchCV(cv=3, error_score='raise',\n",
       "       estimator=Pipeline(memory=None,\n",
       "     steps=[('tfidf_vec', TfidfVectorizer(analyzer='word', binary=False, decode_error='strict',\n",
       "        dtype=<class 'numpy.int64'>, encoding='utf-8', input='content',\n",
       "        lowercase=True, max_df=1.0, max_features=None, min_df=1,\n",
       "        ngram_range=(1, 1), norm='l2',\n",
       "        preprocessor=<function it...,\n",
       "  max_iter=-1, probability=False, random_state=None, shrinking=True,\n",
       "  tol=0.001, verbose=False))]),\n",
       "       fit_params=None, iid=True, n_jobs=-1,\n",
       "       param_grid={'svc__C': array([  0.1    ,   0.17783,   0.31623,   0.56234,   1.     ,   1.77828,\n",
       "         3.16228,   5.62341,  10.     ])},\n",
       "       pre_dispatch='2*n_jobs', refit=True, return_train_score='warn',\n",
       "       scoring='accuracy', verbose=0)"
      ]
     },
     "execution_count": 15,
     "metadata": {},
     "output_type": "execute_result"
    }
   ],
   "source": [
    "%%time\n",
    "grid.fit(get_ingrs(train), get_labels(train))"
   ]
  },
  {
   "cell_type": "code",
   "execution_count": 16,
   "metadata": {},
   "outputs": [
    {
     "data": {
      "text/plain": [
       "Pipeline(memory=None,\n",
       "     steps=[('tfidf_vec', TfidfVectorizer(analyzer='word', binary=False, decode_error='strict',\n",
       "        dtype=<class 'numpy.int64'>, encoding='utf-8', input='content',\n",
       "        lowercase=True, max_df=1.0, max_features=None, min_df=1,\n",
       "        ngram_range=(1, 1), norm='l2',\n",
       "        preprocessor=<function it...,\n",
       "  max_iter=-1, probability=False, random_state=None, shrinking=True,\n",
       "  tol=0.001, verbose=False))])"
      ]
     },
     "execution_count": 16,
     "metadata": {},
     "output_type": "execute_result"
    }
   ],
   "source": [
    "grid.best_estimator_"
   ]
  },
  {
   "cell_type": "code",
   "execution_count": 17,
   "metadata": {},
   "outputs": [
    {
     "data": {
      "text/plain": [
       "{'svc__C': 1.7782794100389228}"
      ]
     },
     "execution_count": 17,
     "metadata": {},
     "output_type": "execute_result"
    }
   ],
   "source": [
    "grid.best_params_"
   ]
  },
  {
   "cell_type": "code",
   "execution_count": 18,
   "metadata": {},
   "outputs": [
    {
     "data": {
      "text/plain": [
       "0.77563232262281889"
      ]
     },
     "execution_count": 18,
     "metadata": {},
     "output_type": "execute_result"
    }
   ],
   "source": [
    "grid.best_score_"
   ]
  },
  {
   "cell_type": "code",
   "execution_count": 20,
   "metadata": {},
   "outputs": [
    {
     "data": {
      "text/plain": [
       "1.7782794100389228"
      ]
     },
     "execution_count": 20,
     "metadata": {},
     "output_type": "execute_result"
    }
   ],
   "source": [
    "10**0.25"
   ]
  },
  {
   "cell_type": "code",
   "execution_count": 19,
   "metadata": {},
   "outputs": [
    {
     "name": "stderr",
     "output_type": "stream",
     "text": [
      "/home/aeatda/anaconda3/envs/cooking/lib/python3.6/site-packages/sklearn/utils/deprecation.py:122: FutureWarning: You are accessing a training score ('mean_train_score'), which will not be available by default any more in 0.21. If you need training scores, please set return_train_score=True\n",
      "  warnings.warn(*warn_args, **warn_kwargs)\n",
      "/home/aeatda/anaconda3/envs/cooking/lib/python3.6/site-packages/sklearn/utils/deprecation.py:122: FutureWarning: You are accessing a training score ('split0_train_score'), which will not be available by default any more in 0.21. If you need training scores, please set return_train_score=True\n",
      "  warnings.warn(*warn_args, **warn_kwargs)\n",
      "/home/aeatda/anaconda3/envs/cooking/lib/python3.6/site-packages/sklearn/utils/deprecation.py:122: FutureWarning: You are accessing a training score ('split1_train_score'), which will not be available by default any more in 0.21. If you need training scores, please set return_train_score=True\n",
      "  warnings.warn(*warn_args, **warn_kwargs)\n",
      "/home/aeatda/anaconda3/envs/cooking/lib/python3.6/site-packages/sklearn/utils/deprecation.py:122: FutureWarning: You are accessing a training score ('split2_train_score'), which will not be available by default any more in 0.21. If you need training scores, please set return_train_score=True\n",
      "  warnings.warn(*warn_args, **warn_kwargs)\n",
      "/home/aeatda/anaconda3/envs/cooking/lib/python3.6/site-packages/sklearn/utils/deprecation.py:122: FutureWarning: You are accessing a training score ('std_train_score'), which will not be available by default any more in 0.21. If you need training scores, please set return_train_score=True\n",
      "  warnings.warn(*warn_args, **warn_kwargs)\n"
     ]
    },
    {
     "data": {
      "text/plain": [
       "{'mean_fit_time': array([ 157.98665675,  141.8716344 ,  130.96095832,  126.57304716,\n",
       "         118.48142846,  115.55716753,  115.64803076,  112.06342483,\n",
       "          62.41553322]),\n",
       " 'mean_score_time': array([ 51.12805931,  47.22033993,  49.61519774,  52.10884198,\n",
       "         51.88579361,  50.08882594,  50.20968072,  50.35080115,  30.51324789]),\n",
       " 'mean_test_score': array([ 0.67642178,  0.7184593 ,  0.74800121,  0.76705888,  0.77477749,\n",
       "         0.77563232,  0.76987479,  0.75911399,  0.74742294]),\n",
       " 'mean_train_score': array([ 0.69591937,  0.7527655 ,  0.79732985,  0.83901561,  0.87562239,\n",
       "         0.90834476,  0.93558612,  0.95683115,  0.97152672]),\n",
       " 'param_svc__C': masked_array(data = [0.10000000000000001 0.17782794100389229 0.31622776601683794\n",
       "  0.56234132519034907 1.0 1.7782794100389228 3.1622776601683795\n",
       "  5.6234132519034912 10.0],\n",
       "              mask = [False False False False False False False False False],\n",
       "        fill_value = ?),\n",
       " 'params': [{'svc__C': 0.10000000000000001},\n",
       "  {'svc__C': 0.17782794100389229},\n",
       "  {'svc__C': 0.31622776601683794},\n",
       "  {'svc__C': 0.56234132519034907},\n",
       "  {'svc__C': 1.0},\n",
       "  {'svc__C': 1.7782794100389228},\n",
       "  {'svc__C': 3.1622776601683795},\n",
       "  {'svc__C': 5.6234132519034912},\n",
       "  {'svc__C': 10.0}],\n",
       " 'rank_test_score': array([9, 8, 6, 4, 2, 1, 3, 5, 7], dtype=int32),\n",
       " 'split0_test_score': array([ 0.67277388,  0.71823871,  0.74628666,  0.76656865,  0.77380683,\n",
       "         0.77463621,  0.76943376,  0.75925507,  0.74862399]),\n",
       " 'split0_train_score': array([ 0.69586209,  0.75127306,  0.79634869,  0.83912338,  0.87657953,\n",
       "         0.90830221,  0.93546075,  0.95752706,  0.97223794]),\n",
       " 'split1_test_score': array([ 0.67878422,  0.71709782,  0.74688891,  0.76612113,  0.77305981,\n",
       "         0.77328607,  0.76664907,  0.75420469,  0.74289162]),\n",
       " 'split1_train_score': array([ 0.69511597,  0.75372431,  0.79811427,  0.8408448 ,  0.87554215,\n",
       "         0.90971148,  0.93641335,  0.95632661,  0.97148784]),\n",
       " 'split2_test_score': array([ 0.67770903,  0.72004226,  0.75083006,  0.76848778,  0.77746755,\n",
       "         0.77897676,  0.77354362,  0.7638847 ,  0.7507546 ]),\n",
       " 'split2_train_score': array([ 0.69678003,  0.75329915,  0.79752658,  0.83707865,  0.87474549,\n",
       "         0.90702059,  0.93488425,  0.95663977,  0.97085439]),\n",
       " 'std_fit_time': array([ 2.08218517,  0.73413539,  7.93284874,  1.74395934,  0.97054979,\n",
       "         1.05412165,  2.18498567,  2.56616093,  1.6470323 ]),\n",
       " 'std_score_time': array([ 0.67675231,  0.48142198,  4.73983247,  1.27571217,  3.19451459,\n",
       "         1.07446124,  0.61284336,  1.34203302,  0.07061775]),\n",
       " 'std_test_score': array([ 0.00261725,  0.00121203,  0.00201469,  0.00102643,  0.00192582,\n",
       "         0.00242749,  0.00283166,  0.00395273,  0.00332026]),\n",
       " 'std_train_score': array([ 0.00068056,  0.0010695 ,  0.0007341 ,  0.00153941,  0.00075089,\n",
       "         0.00109897,  0.00063052,  0.00050842,  0.0005655 ])}"
      ]
     },
     "execution_count": 19,
     "metadata": {},
     "output_type": "execute_result"
    }
   ],
   "source": [
    "grid.cv_results_"
   ]
  },
  {
   "cell_type": "markdown",
   "metadata": {},
   "source": [
    "# Based on 10^-.1, 10^-.05, ..., 10^.45, 10^.5"
   ]
  },
  {
   "cell_type": "code",
   "execution_count": 21,
   "metadata": {
    "collapsed": true
   },
   "outputs": [],
   "source": [
    "c_vals = np.logspace(-0.1, 0.5, 13)"
   ]
  },
  {
   "cell_type": "code",
   "execution_count": 22,
   "metadata": {},
   "outputs": [
    {
     "data": {
      "text/plain": [
       "array([ 0.79432823,  0.89125094,  1.        ,  1.12201845,  1.25892541,\n",
       "        1.41253754,  1.58489319,  1.77827941,  1.99526231,  2.23872114,\n",
       "        2.51188643,  2.81838293,  3.16227766])"
      ]
     },
     "execution_count": 22,
     "metadata": {},
     "output_type": "execute_result"
    }
   ],
   "source": [
    "c_vals"
   ]
  },
  {
   "cell_type": "code",
   "execution_count": 26,
   "metadata": {
    "collapsed": true
   },
   "outputs": [],
   "source": [
    "param_grid = {\n",
    "    'svc__C': c_vals,\n",
    "}"
   ]
  },
  {
   "cell_type": "code",
   "execution_count": 27,
   "metadata": {
    "collapsed": true
   },
   "outputs": [],
   "source": [
    "grid = GridSearchCV(svc,\n",
    "                    param_grid=param_grid,\n",
    "                    cv=5,\n",
    "                    scoring='accuracy',\n",
    "                    n_jobs=-1)"
   ]
  },
  {
   "cell_type": "code",
   "execution_count": 28,
   "metadata": {},
   "outputs": [
    {
     "name": "stdout",
     "output_type": "stream",
     "text": [
      "CPU times: user 1min 39s, sys: 1.05 s, total: 1min 40s\n",
      "Wall time: 43min 32s\n"
     ]
    },
    {
     "data": {
      "text/plain": [
       "GridSearchCV(cv=5, error_score='raise',\n",
       "       estimator=Pipeline(memory=None,\n",
       "     steps=[('tfidf_vec', TfidfVectorizer(analyzer='word', binary=False, decode_error='strict',\n",
       "        dtype=<class 'numpy.int64'>, encoding='utf-8', input='content',\n",
       "        lowercase=True, max_df=1.0, max_features=None, min_df=1,\n",
       "        ngram_range=(1, 1), norm='l2',\n",
       "        preprocessor=<function it...,\n",
       "  max_iter=-1, probability=False, random_state=None, shrinking=True,\n",
       "  tol=0.001, verbose=False))]),\n",
       "       fit_params=None, iid=True, n_jobs=-1,\n",
       "       param_grid={'svc__C': array([ 0.79433,  0.89125,  1.     ,  1.12202,  1.25893,  1.41254,\n",
       "        1.58489,  1.77828,  1.99526,  2.23872,  2.51189,  2.81838,  3.16228])},\n",
       "       pre_dispatch='2*n_jobs', refit=True, return_train_score='warn',\n",
       "       scoring='accuracy', verbose=0)"
      ]
     },
     "execution_count": 28,
     "metadata": {},
     "output_type": "execute_result"
    }
   ],
   "source": [
    "%%time\n",
    "grid.fit(get_ingrs(train), get_labels(train))"
   ]
  },
  {
   "cell_type": "code",
   "execution_count": 29,
   "metadata": {},
   "outputs": [
    {
     "data": {
      "text/plain": [
       "Pipeline(memory=None,\n",
       "     steps=[('tfidf_vec', TfidfVectorizer(analyzer='word', binary=False, decode_error='strict',\n",
       "        dtype=<class 'numpy.int64'>, encoding='utf-8', input='content',\n",
       "        lowercase=True, max_df=1.0, max_features=None, min_df=1,\n",
       "        ngram_range=(1, 1), norm='l2',\n",
       "        preprocessor=<function it...,\n",
       "  max_iter=-1, probability=False, random_state=None, shrinking=True,\n",
       "  tol=0.001, verbose=False))])"
      ]
     },
     "execution_count": 29,
     "metadata": {},
     "output_type": "execute_result"
    }
   ],
   "source": [
    "grid.best_estimator_"
   ]
  },
  {
   "cell_type": "markdown",
   "metadata": {},
   "source": [
    "## Best value: 10^.1"
   ]
  },
  {
   "cell_type": "code",
   "execution_count": 30,
   "metadata": {},
   "outputs": [
    {
     "data": {
      "text/plain": [
       "{'svc__C': 1.2589254117941671}"
      ]
     },
     "execution_count": 30,
     "metadata": {},
     "output_type": "execute_result"
    }
   ],
   "source": [
    "grid.best_params_"
   ]
  },
  {
   "cell_type": "code",
   "execution_count": 31,
   "metadata": {},
   "outputs": [
    {
     "data": {
      "text/plain": [
       "0.78154070498315487"
      ]
     },
     "execution_count": 31,
     "metadata": {},
     "output_type": "execute_result"
    }
   ],
   "source": [
    "grid.best_score_"
   ]
  },
  {
   "cell_type": "code",
   "execution_count": 33,
   "metadata": {},
   "outputs": [
    {
     "data": {
      "text/plain": [
       "1.2589254117941673"
      ]
     },
     "execution_count": 33,
     "metadata": {},
     "output_type": "execute_result"
    }
   ],
   "source": [
    "10**0.1"
   ]
  },
  {
   "cell_type": "code",
   "execution_count": 32,
   "metadata": {},
   "outputs": [
    {
     "name": "stderr",
     "output_type": "stream",
     "text": [
      "/home/aeatda/anaconda3/envs/cooking/lib/python3.6/site-packages/sklearn/utils/deprecation.py:122: FutureWarning: You are accessing a training score ('mean_train_score'), which will not be available by default any more in 0.21. If you need training scores, please set return_train_score=True\n",
      "  warnings.warn(*warn_args, **warn_kwargs)\n",
      "/home/aeatda/anaconda3/envs/cooking/lib/python3.6/site-packages/sklearn/utils/deprecation.py:122: FutureWarning: You are accessing a training score ('split0_train_score'), which will not be available by default any more in 0.21. If you need training scores, please set return_train_score=True\n",
      "  warnings.warn(*warn_args, **warn_kwargs)\n",
      "/home/aeatda/anaconda3/envs/cooking/lib/python3.6/site-packages/sklearn/utils/deprecation.py:122: FutureWarning: You are accessing a training score ('split1_train_score'), which will not be available by default any more in 0.21. If you need training scores, please set return_train_score=True\n",
      "  warnings.warn(*warn_args, **warn_kwargs)\n",
      "/home/aeatda/anaconda3/envs/cooking/lib/python3.6/site-packages/sklearn/utils/deprecation.py:122: FutureWarning: You are accessing a training score ('split2_train_score'), which will not be available by default any more in 0.21. If you need training scores, please set return_train_score=True\n",
      "  warnings.warn(*warn_args, **warn_kwargs)\n",
      "/home/aeatda/anaconda3/envs/cooking/lib/python3.6/site-packages/sklearn/utils/deprecation.py:122: FutureWarning: You are accessing a training score ('split3_train_score'), which will not be available by default any more in 0.21. If you need training scores, please set return_train_score=True\n",
      "  warnings.warn(*warn_args, **warn_kwargs)\n",
      "/home/aeatda/anaconda3/envs/cooking/lib/python3.6/site-packages/sklearn/utils/deprecation.py:122: FutureWarning: You are accessing a training score ('split4_train_score'), which will not be available by default any more in 0.21. If you need training scores, please set return_train_score=True\n",
      "  warnings.warn(*warn_args, **warn_kwargs)\n",
      "/home/aeatda/anaconda3/envs/cooking/lib/python3.6/site-packages/sklearn/utils/deprecation.py:122: FutureWarning: You are accessing a training score ('std_train_score'), which will not be available by default any more in 0.21. If you need training scores, please set return_train_score=True\n",
      "  warnings.warn(*warn_args, **warn_kwargs)\n"
     ]
    },
    {
     "data": {
      "text/plain": [
       "{'mean_fit_time': array([ 143.23508005,  141.68128681,  142.49367027,  138.52516761,\n",
       "         138.25345206,  141.67964201,  134.36590509,  131.23971028,\n",
       "         131.31269522,  130.88654017,  136.13537259,  130.27778497,\n",
       "         114.3429522 ]),\n",
       " 'mean_score_time': array([ 30.35004473,  30.59682322,  31.32538342,  32.35517311,\n",
       "         32.77063403,  32.35771828,  33.70293155,  33.04715948,\n",
       "         31.51931925,  32.57419186,  32.36193271,  32.1674602 ,  29.84162641]),\n",
       " 'mean_test_score': array([ 0.77749283,  0.77890079,  0.78071102,  0.78116357,  0.7815407 ,\n",
       "         0.78144014,  0.78131443,  0.78058531,  0.77988133,  0.77935335,\n",
       "         0.77880022,  0.77698999,  0.77520491]),\n",
       " 'mean_train_score': array([ 0.86047416,  0.86704884,  0.87342238,  0.87984624,  0.88610037,\n",
       "         0.8921156 ,  0.89793594,  0.90383173,  0.90970242,  0.91545369,\n",
       "         0.92033122,  0.92560476,  0.93024972]),\n",
       " 'param_svc__C': masked_array(data = [0.79432823472428149 0.89125093813374556 1.0 1.1220184543019633\n",
       "  1.2589254117941671 1.4125375446227542 1.5848931924611134\n",
       "  1.7782794100389228 1.9952623149688793 2.2387211385683394\n",
       "  2.5118864315095797 2.8183829312644537 3.1622776601683795],\n",
       "              mask = [False False False False False False False False False False False False\n",
       "  False],\n",
       "        fill_value = ?),\n",
       " 'params': [{'svc__C': 0.79432823472428149},\n",
       "  {'svc__C': 0.89125093813374556},\n",
       "  {'svc__C': 1.0},\n",
       "  {'svc__C': 1.1220184543019633},\n",
       "  {'svc__C': 1.2589254117941671},\n",
       "  {'svc__C': 1.4125375446227542},\n",
       "  {'svc__C': 1.5848931924611134},\n",
       "  {'svc__C': 1.7782794100389228},\n",
       "  {'svc__C': 1.9952623149688793},\n",
       "  {'svc__C': 2.2387211385683394},\n",
       "  {'svc__C': 2.5118864315095797},\n",
       "  {'svc__C': 2.8183829312644537},\n",
       "  {'svc__C': 3.1622776601683795}],\n",
       " 'rank_test_score': array([11,  9,  5,  4,  1,  2,  3,  6,  7,  8, 10, 12, 13], dtype=int32),\n",
       " 'split0_test_score': array([ 0.77505652,  0.77681487,  0.77982919,  0.78008038,  0.78008038,\n",
       "         0.77920121,  0.77819643,  0.77857322,  0.77807084,  0.77756845,\n",
       "         0.77719166,  0.77430294,  0.77304697]),\n",
       " 'split0_train_score': array([ 0.86065007,  0.8675657 ,  0.87416698,  0.88111405,  0.88743242,\n",
       "         0.89309066,  0.89821451,  0.90384132,  0.90993965,  0.91635232,\n",
       "         0.92100465,  0.92653716,  0.93115805]),\n",
       " 'split1_test_score': array([ 0.78336265,  0.78399095,  0.78336265,  0.78461925,  0.78562453,\n",
       "         0.78474491,  0.78436793,  0.78336265,  0.78323699,  0.78286002,\n",
       "         0.78273436,  0.78034682,  0.77871324]),\n",
       " 'split1_train_score': array([ 0.86041614,  0.8669223 ,  0.87364848,  0.88068896,  0.88675509,\n",
       "         0.89285265,  0.89888735,  0.90507921,  0.91073674,  0.91639427,\n",
       "         0.92107745,  0.92554061,  0.92994091]),\n",
       " 'split2_test_score': array([ 0.77727501,  0.7774007 ,  0.77916038,  0.77941176,  0.7802916 ,\n",
       "         0.78129713,  0.78092006,  0.78079437,  0.77903469,  0.77840623,\n",
       "         0.77614379,  0.77413273,  0.77287582]),\n",
       " 'split2_train_score': array([ 0.85838205,  0.86495066,  0.87136212,  0.87730216,  0.88465648,\n",
       "         0.89150795,  0.89744799,  0.9030423 ,  0.90976806,  0.9147338 ,\n",
       "         0.9197624 ,  0.92529386,  0.92966246]),\n",
       " 'split3_test_score': array([ 0.76946296,  0.77122375,  0.77487109,  0.77499686,  0.77449377,\n",
       "         0.77612879,  0.77638033,  0.77449377,  0.77424223,  0.77373915,\n",
       "         0.77424223,  0.77260722,  0.77059489]),\n",
       " 'split3_train_score': array([ 0.86387204,  0.87065959,  0.87656726,  0.88272633,  0.88847689,\n",
       "         0.89353612,  0.89925526,  0.90519436,  0.9098765 ,  0.91612984,\n",
       "         0.92103196,  0.92665682,  0.93146466]),\n",
       " 'split4_test_score': array([ 0.78230779,  0.78507613,  0.78633447,  0.78671197,  0.7872153 ,\n",
       "         0.78583113,  0.78671197,  0.7857053 ,  0.78482446,  0.78419529,\n",
       "         0.78369196,  0.78356613,  0.78079779]),\n",
       " 'split4_train_score': array([ 0.85905049,  0.86514595,  0.87136708,  0.87739969,  0.88318095,\n",
       "         0.8895906 ,  0.89587457,  0.90200145,  0.90819116,  0.91365821,\n",
       "         0.91877965,  0.92399535,  0.92902253]),\n",
       " 'std_fit_time': array([  2.5561368 ,   1.77976337,   1.43966313,   2.76954911,\n",
       "          3.11212218,   1.01278471,   3.95841141,   1.65171232,\n",
       "          0.92012041,   2.78476318,   3.41365542,   2.99852195,  26.13210019]),\n",
       " 'std_score_time': array([ 1.13540944,  0.86343379,  0.52671167,  0.42164521,  0.95443976,\n",
       "         0.60368651,  0.52127802,  0.48562471,  0.15965881,  0.73677109,\n",
       "         0.89220067,  0.54594973,  5.90142739]),\n",
       " 'std_test_score': array([ 0.00506095,  0.00508983,  0.0038961 ,  0.00412201,  0.00452071,\n",
       "         0.00356153,  0.00381189,  0.00387531,  0.00378041,  0.00377659,\n",
       "         0.00373636,  0.0042206 ,  0.00387018]),\n",
       " 'std_train_score': array([ 0.00189651,  0.00206611,  0.00194755,  0.00214804,  0.00192139,\n",
       "         0.00143225,  0.00120089,  0.00121542,  0.00083001,  0.00108548,\n",
       "         0.00092003,  0.00096614,  0.00092167])}"
      ]
     },
     "execution_count": 32,
     "metadata": {},
     "output_type": "execute_result"
    }
   ],
   "source": [
    "grid.cv_results_"
   ]
  },
  {
   "cell_type": "markdown",
   "metadata": {},
   "source": [
    "## Fitting to test data with new C value (after encoding all of train+test ingredients)"
   ]
  },
  {
   "cell_type": "code",
   "execution_count": 13,
   "metadata": {},
   "outputs": [
    {
     "name": "stdout",
     "output_type": "stream",
     "text": [
      "CPU times: user 379 ms, sys: 20.2 ms, total: 399 ms\n",
      "Wall time: 398 ms\n"
     ]
    }
   ],
   "source": [
    "%%time\n",
    "dvec_all = TfidfVectorizer(tokenizer=itself,\n",
    "                           preprocessor=itself,\n",
    "                          ).fit(get_ingrs(train+test))"
   ]
  },
  {
   "cell_type": "code",
   "execution_count": 14,
   "metadata": {
    "collapsed": true
   },
   "outputs": [],
   "source": [
    "test_bag = dvec_all.transform(get_ingrs(test))"
   ]
  },
  {
   "cell_type": "code",
   "execution_count": 15,
   "metadata": {
    "collapsed": true
   },
   "outputs": [],
   "source": [
    "svc_linear = SVC(kernel='linear', C=10**0.1)"
   ]
  },
  {
   "cell_type": "code",
   "execution_count": 17,
   "metadata": {},
   "outputs": [
    {
     "name": "stdout",
     "output_type": "stream",
     "text": [
      "CPU times: user 1min 31s, sys: 367 ms, total: 1min 31s\n",
      "Wall time: 1min 31s\n"
     ]
    }
   ],
   "source": [
    "%%time\n",
    "svc_linear = svc_linear.fit(dvec_all.transform(get_ingrs(train)), get_labels(train))"
   ]
  },
  {
   "cell_type": "code",
   "execution_count": 18,
   "metadata": {},
   "outputs": [
    {
     "data": {
      "text/plain": [
       "array(['brazilian', 'british', 'cajun_creole', 'chinese', 'filipino',\n",
       "       'french', 'greek', 'indian', 'irish', 'italian', 'jamaican',\n",
       "       'japanese', 'korean', 'mexican', 'moroccan', 'russian',\n",
       "       'southern_us', 'spanish', 'thai', 'vietnamese'],\n",
       "      dtype='<U12')"
      ]
     },
     "execution_count": 18,
     "metadata": {},
     "output_type": "execute_result"
    }
   ],
   "source": [
    "svc_linear.classes_"
   ]
  },
  {
   "cell_type": "code",
   "execution_count": 19,
   "metadata": {},
   "outputs": [
    {
     "data": {
      "text/plain": [
       "{'C': 1.2589254117941673,\n",
       " 'cache_size': 200,\n",
       " 'class_weight': None,\n",
       " 'coef0': 0.0,\n",
       " 'decision_function_shape': 'ovr',\n",
       " 'degree': 3,\n",
       " 'gamma': 'auto',\n",
       " 'kernel': 'linear',\n",
       " 'max_iter': -1,\n",
       " 'probability': False,\n",
       " 'random_state': None,\n",
       " 'shrinking': True,\n",
       " 'tol': 0.001,\n",
       " 'verbose': False}"
      ]
     },
     "execution_count": 19,
     "metadata": {},
     "output_type": "execute_result"
    }
   ],
   "source": [
    "svc_linear.get_params()"
   ]
  },
  {
   "cell_type": "code",
   "execution_count": 21,
   "metadata": {
    "collapsed": true
   },
   "outputs": [],
   "source": [
    "test_preds = svc_linear.predict(dvec_all.transform(get_ingrs(test)))"
   ]
  },
  {
   "cell_type": "code",
   "execution_count": 22,
   "metadata": {},
   "outputs": [
    {
     "data": {
      "text/plain": [
       "(9944,)"
      ]
     },
     "execution_count": 22,
     "metadata": {},
     "output_type": "execute_result"
    }
   ],
   "source": [
    "test_preds.shape"
   ]
  },
  {
   "cell_type": "code",
   "execution_count": 23,
   "metadata": {
    "collapsed": true
   },
   "outputs": [],
   "source": [
    "test_ids = [r['id'] for r in test]"
   ]
  },
  {
   "cell_type": "code",
   "execution_count": 24,
   "metadata": {
    "collapsed": true
   },
   "outputs": [],
   "source": [
    "df_test = pd.DataFrame([test_ids, list(test_preds)]).transpose()\n",
    "df_test.columns = ['id', 'cuisine']"
   ]
  },
  {
   "cell_type": "code",
   "execution_count": 25,
   "metadata": {
    "collapsed": true
   },
   "outputs": [],
   "source": [
    "df_test.to_csv('../_data/180404_basic_SVM_TFIDF_gridsearch_C.csv', index=False)"
   ]
  },
  {
   "cell_type": "markdown",
   "metadata": {},
   "source": [
    "## Results\n",
    "Accuracy 0.78559  \n",
    "Rank 594\n",
    "\n",
    "![kaggle image](../_images/180404_bow_svm_tfidf_grid.png)\n",
    "![kaggle image](../_images/180404_bow_svm_tfidf_grid_standing.png)"
   ]
  },
  {
   "cell_type": "code",
   "execution_count": null,
   "metadata": {
    "collapsed": true
   },
   "outputs": [],
   "source": []
  }
 ],
 "metadata": {
  "kernelspec": {
   "display_name": "Python 3",
   "language": "python",
   "name": "python3"
  },
  "language_info": {
   "codemirror_mode": {
    "name": "ipython",
    "version": 3
   },
   "file_extension": ".py",
   "mimetype": "text/x-python",
   "name": "python",
   "nbconvert_exporter": "python",
   "pygments_lexer": "ipython3",
   "version": "3.6.3"
  }
 },
 "nbformat": 4,
 "nbformat_minor": 2
}
