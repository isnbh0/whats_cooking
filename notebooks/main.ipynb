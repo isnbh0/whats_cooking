{
 "cells": [
  {
   "cell_type": "markdown",
   "metadata": {},
   "source": [
    "## Basics"
   ]
  },
  {
   "cell_type": "code",
   "execution_count": 1,
   "metadata": {
    "collapsed": true
   },
   "outputs": [],
   "source": [
    "import numpy as np\n",
    "import json\n",
    "import re\n",
    "from collections import Counter\n",
    "\n",
    "with open('../_data/train.json', 'r') as f:\n",
    "    train = json.load(f)\n",
    "with open('../_data/test.json', 'r') as f:\n",
    "    test = json.load(f)"
   ]
  },
  {
   "cell_type": "code",
   "execution_count": 2,
   "metadata": {},
   "outputs": [
    {
     "data": {
      "text/plain": [
       "(39774, 9944)"
      ]
     },
     "execution_count": 2,
     "metadata": {},
     "output_type": "execute_result"
    }
   ],
   "source": [
    "len(train), len(test)"
   ]
  },
  {
   "cell_type": "code",
   "execution_count": 3,
   "metadata": {},
   "outputs": [
    {
     "data": {
      "text/plain": [
       "{'cuisine': 'greek',\n",
       " 'id': 10259,\n",
       " 'ingredients': ['romaine lettuce',\n",
       "  'black olives',\n",
       "  'grape tomatoes',\n",
       "  'garlic',\n",
       "  'pepper',\n",
       "  'purple onion',\n",
       "  'seasoning',\n",
       "  'garbanzo beans',\n",
       "  'feta cheese crumbles']}"
      ]
     },
     "execution_count": 3,
     "metadata": {},
     "output_type": "execute_result"
    }
   ],
   "source": [
    "train[0]"
   ]
  },
  {
   "cell_type": "markdown",
   "metadata": {},
   "source": [
    "## Data cleaning"
   ]
  },
  {
   "cell_type": "code",
   "execution_count": 4,
   "metadata": {},
   "outputs": [
    {
     "data": {
      "text/plain": [
       "Counter({'!': 34,\n",
       "         '%': 394,\n",
       "         '&': 479,\n",
       "         \"'\": 240,\n",
       "         '(': 55,\n",
       "         ')': 55,\n",
       "         ',': 814,\n",
       "         '.': 57,\n",
       "         '/': 2,\n",
       "         '®': 244,\n",
       "         '’': 8,\n",
       "         '€': 1,\n",
       "         '™': 79})"
      ]
     },
     "execution_count": 4,
     "metadata": {},
     "output_type": "execute_result"
    }
   ],
   "source": [
    "SPEC_CHARS = re.compile(r'[^\\w\\s\\-_]')\n",
    "\n",
    "chars = [re.findall(SPEC_CHARS, x)\\\n",
    " for ilist in [r['ingredients'] for r in train+test] for x in ilist if re.search(SPEC_CHARS, x)]\n",
    "\n",
    "Counter([x for charlist in chars for x in charlist])"
   ]
  },
  {
   "cell_type": "markdown",
   "metadata": {},
   "source": [
    "### Rules:\n",
    "* remove `'`, `’`, `( oz*)`, `(`, `)`\n",
    "* replace `&` with `and`\n",
    "* replace all else (`™`, `®`, `.`, `€`) with `' '`\n",
    "* keep `%`"
   ]
  },
  {
   "cell_type": "code",
   "execution_count": 5,
   "metadata": {
    "collapsed": true
   },
   "outputs": [],
   "source": [
    "SPEC_REMOVE = re.compile(r'(\\'|\\’|\\(.*oz.*\\)|(\\()|(\\)))')\n",
    "SPEC_AND = re.compile(r'\\&')\n",
    "SPEC_ELSE = re.compile(r'[^\\w\\s\\%_]')\n",
    "\n",
    "def clean_ingr(ingr):\n",
    "    ingr = re.sub(SPEC_REMOVE, '', ingr)\n",
    "    ingr = re.sub(SPEC_AND, 'and', ingr)\n",
    "    ingr = re.sub(SPEC_ELSE, ' ', ingr)\n",
    "    return ' '.join(ingr.split())\n",
    "\n",
    "def get_ingrs(given):\n",
    "    ingrs = [[clean_ingr(i).lower() for i in recipe['ingredients']] for recipe in given]\n",
    "    return ingrs\n",
    "\n",
    "def get_labels(given):\n",
    "    return [r['cuisine'] for r in given]"
   ]
  },
  {
   "cell_type": "code",
   "execution_count": 7,
   "metadata": {
    "collapsed": true
   },
   "outputs": [],
   "source": [
    "train_ingrs = get_ingrs(train)\n",
    "train_labels = get_labels(train)"
   ]
  },
  {
   "cell_type": "markdown",
   "metadata": {},
   "source": [
    "## Pipeline\n",
    "0. Cleaning data (removing and replacing special characters)\n",
    "1. TFIDF counts of ingredients and word n-grams\n",
    "  * Parameter tuning through grid search\n",
    "    * `ngram_range = (1, 4)`\n",
    "    * `stop_words = None` (No use of stop words)\n",
    "2. Linear SVM modeling of concatenated count matrix\n",
    "  * Parameter tuning through grid search\n",
    "    * `loss = 'hinge'`\n",
    "    * $C = 10^{0.1} \\approx 1.25$"
   ]
  },
  {
   "cell_type": "code",
   "execution_count": 8,
   "metadata": {
    "collapsed": true
   },
   "outputs": [],
   "source": [
    "from sklearn.feature_extraction.text import TfidfVectorizer\n",
    "from sklearn.pipeline import Pipeline, FeatureUnion\n",
    "from sklearn.svm import LinearSVC\n",
    "from sklearn.model_selection import cross_val_score"
   ]
  },
  {
   "cell_type": "code",
   "execution_count": 9,
   "metadata": {
    "collapsed": true
   },
   "outputs": [],
   "source": [
    "# Dummy preprocessor/tokenizer for ingredient counting\n",
    "def itself(x):\n",
    "    return x\n",
    "\n",
    "# Processor to treat list of ingredients as one collection of words\n",
    "# For ngram counting\n",
    "def combine_words(ilist):\n",
    "    return ' '.join(ilist)"
   ]
  },
  {
   "cell_type": "markdown",
   "metadata": {},
   "source": [
    "### Counting ingredient-level and word-level yields better CV accuracy"
   ]
  },
  {
   "cell_type": "code",
   "execution_count": 14,
   "metadata": {
    "collapsed": true
   },
   "outputs": [],
   "source": [
    "ingr_word = Pipeline([\n",
    "    ('union', FeatureUnion([\n",
    "        (\"ingrs\", TfidfVectorizer(strip_accents='unicode',\n",
    "                                  tokenizer=itself,\n",
    "                                  preprocessor=itself)),\n",
    "        (\"words\", TfidfVectorizer(strip_accents='unicode',\n",
    "                                  preprocessor=combine_words,\n",
    "                                  stop_words=None,\n",
    "                                  ngram_range=(1, 4)))\n",
    "    ])),\n",
    "    (\"linear svc\", LinearSVC(loss='hinge', C=10**0.1))\n",
    "])"
   ]
  },
  {
   "cell_type": "markdown",
   "metadata": {},
   "source": [
    "### Cross-validation score"
   ]
  },
  {
   "cell_type": "code",
   "execution_count": 15,
   "metadata": {},
   "outputs": [
    {
     "name": "stdout",
     "output_type": "stream",
     "text": [
      "CPU times: user 1.13 s, sys: 165 ms, total: 1.3 s\n",
      "Wall time: 54.1 s\n"
     ]
    }
   ],
   "source": [
    "%%time\n",
    "scores = cross_val_score(ingr_word, train_ingrs, train_labels, cv=5, n_jobs=-1)"
   ]
  },
  {
   "cell_type": "code",
   "execution_count": 16,
   "metadata": {},
   "outputs": [
    {
     "data": {
      "text/plain": [
       "array([ 0.78522984,  0.79530033,  0.79110106,  0.78732235,  0.79891783])"
      ]
     },
     "execution_count": 16,
     "metadata": {},
     "output_type": "execute_result"
    }
   ],
   "source": [
    "scores"
   ]
  },
  {
   "cell_type": "code",
   "execution_count": 17,
   "metadata": {},
   "outputs": [
    {
     "data": {
      "text/plain": [
       "0.79157428085768422"
      ]
     },
     "execution_count": 17,
     "metadata": {},
     "output_type": "execute_result"
    }
   ],
   "source": [
    "scores.mean()"
   ]
  },
  {
   "cell_type": "markdown",
   "metadata": {},
   "source": [
    "## Prediction\n",
    "Fitting to train data (after encoding all of train+test ingredients)"
   ]
  },
  {
   "cell_type": "code",
   "execution_count": 31,
   "metadata": {},
   "outputs": [
    {
     "name": "stdout",
     "output_type": "stream",
     "text": [
      "CPU times: user 9.16 s, sys: 108 ms, total: 9.27 s\n",
      "Wall time: 9.27 s\n"
     ]
    }
   ],
   "source": [
    "%%time\n",
    "dvec_all = FeatureUnion([\n",
    "        (\"ingrs\", TfidfVectorizer(strip_accents='unicode',\n",
    "                                  tokenizer=itself,\n",
    "                                  preprocessor=itself)),\n",
    "        (\"words\", TfidfVectorizer(strip_accents='unicode',\n",
    "                                  preprocessor=combine_words,\n",
    "                                  ngram_range=(1, 4),\n",
    "                                  stop_words=None)),\n",
    "        ]).fit(get_ingrs(train))"
   ]
  },
  {
   "cell_type": "code",
   "execution_count": 32,
   "metadata": {
    "collapsed": true
   },
   "outputs": [],
   "source": [
    "test_bag = dvec_all.transform(get_ingrs(test))"
   ]
  },
  {
   "cell_type": "code",
   "execution_count": 33,
   "metadata": {
    "collapsed": true
   },
   "outputs": [],
   "source": [
    "svc_linear =  LinearSVC(loss='hinge', C=10**0.1)"
   ]
  },
  {
   "cell_type": "code",
   "execution_count": 34,
   "metadata": {},
   "outputs": [
    {
     "name": "stdout",
     "output_type": "stream",
     "text": [
      "CPU times: user 18.1 s, sys: 63.7 ms, total: 18.2 s\n",
      "Wall time: 18.2 s\n"
     ]
    }
   ],
   "source": [
    "%%time\n",
    "svc_linear = svc_linear.fit(dvec_all.transform(train_ingrs), train_labels)"
   ]
  },
  {
   "cell_type": "code",
   "execution_count": 35,
   "metadata": {
    "collapsed": true
   },
   "outputs": [],
   "source": [
    "test_ids = [r['id'] for r in test]\n",
    "test_preds = svc_linear.predict(dvec_all.transform(get_ingrs(test)))"
   ]
  },
  {
   "cell_type": "code",
   "execution_count": 36,
   "metadata": {
    "collapsed": true
   },
   "outputs": [],
   "source": [
    "df_test = pd.DataFrame({'id': test_ids, 'cuisine': test_preds}, columns=['id', 'cuisine'])"
   ]
  },
  {
   "cell_type": "code",
   "execution_count": 37,
   "metadata": {
    "collapsed": true
   },
   "outputs": [],
   "source": [
    "df_test.to_csv('../_data/submission.csv', index=False)"
   ]
  },
  {
   "cell_type": "markdown",
   "metadata": {},
   "source": [
    "* Accuracy: 0.79605\n",
    "* Rank: 270/1388\n",
    "![Kaggle](../_images/180406_14ngram_ingr_linearsvc.png)\n",
    "![Kaggle](../_images/180406_14ngram_ingr_linearsvc_standing.png)"
   ]
  },
  {
   "cell_type": "markdown",
   "metadata": {},
   "source": [
    "## Improvements\n",
    "* Model nonlinearity\n",
    "  * Nonlinear kernel\n",
    "  * Random forest\n",
    "  * XGBoost"
   ]
  },
  {
   "cell_type": "code",
   "execution_count": null,
   "metadata": {
    "collapsed": true
   },
   "outputs": [],
   "source": []
  }
 ],
 "metadata": {
  "kernelspec": {
   "display_name": "Python 3",
   "language": "python",
   "name": "python3"
  },
  "language_info": {
   "codemirror_mode": {
    "name": "ipython",
    "version": 3
   },
   "file_extension": ".py",
   "mimetype": "text/x-python",
   "name": "python",
   "nbconvert_exporter": "python",
   "pygments_lexer": "ipython3",
   "version": "3.6.3"
  }
 },
 "nbformat": 4,
 "nbformat_minor": 2
}
