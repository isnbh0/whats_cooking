{
 "cells": [
  {
   "cell_type": "code",
   "execution_count": 1,
   "metadata": {
    "collapsed": true
   },
   "outputs": [],
   "source": [
    "import numpy as np\n",
    "import json\n",
    "\n",
    "\n",
    "with open('../_data/train.json', 'r') as f:\n",
    "    train = json.load(f)\n",
    "with open('../_data/test.json', 'r') as f:\n",
    "    test = json.load(f)"
   ]
  },
  {
   "cell_type": "code",
   "execution_count": 2,
   "metadata": {},
   "outputs": [
    {
     "data": {
      "text/plain": [
       "(39774, 9944)"
      ]
     },
     "execution_count": 2,
     "metadata": {},
     "output_type": "execute_result"
    }
   ],
   "source": [
    "len(train), len(test)"
   ]
  },
  {
   "cell_type": "code",
   "execution_count": 3,
   "metadata": {},
   "outputs": [
    {
     "data": {
      "text/plain": [
       "{'cuisine': 'greek',\n",
       " 'id': 10259,\n",
       " 'ingredients': ['romaine lettuce',\n",
       "  'black olives',\n",
       "  'grape tomatoes',\n",
       "  'garlic',\n",
       "  'pepper',\n",
       "  'purple onion',\n",
       "  'seasoning',\n",
       "  'garbanzo beans',\n",
       "  'feta cheese crumbles']}"
      ]
     },
     "execution_count": 3,
     "metadata": {},
     "output_type": "execute_result"
    }
   ],
   "source": [
    "train[0]"
   ]
  },
  {
   "cell_type": "markdown",
   "metadata": {},
   "source": [
    "## Pipeline using DictVectorizer (bag of ingredients) and SVC"
   ]
  },
  {
   "cell_type": "code",
   "execution_count": 4,
   "metadata": {
    "collapsed": true
   },
   "outputs": [],
   "source": [
    "from sklearn.feature_extraction.text import CountVectorizer\n",
    "from sklearn.feature_extraction import DictVectorizer\n",
    "from sklearn.feature_extraction.text import TfidfVectorizer\n",
    "\n",
    "from sklearn.pipeline import Pipeline\n",
    "from sklearn.svm import SVC\n",
    "from sklearn.metrics import accuracy_score\n",
    "from sklearn.model_selection import cross_val_score"
   ]
  },
  {
   "cell_type": "code",
   "execution_count": 5,
   "metadata": {
    "collapsed": true
   },
   "outputs": [],
   "source": [
    "def itself(x):\n",
    "    return x"
   ]
  },
  {
   "cell_type": "code",
   "execution_count": 8,
   "metadata": {
    "collapsed": true
   },
   "outputs": [],
   "source": [
    "svc = Pipeline([\n",
    "    (\"tfidf_vec\", TfidfVectorizer(tokenizer=itself,\n",
    "                                         preprocessor=itself,\n",
    "                                        )),\n",
    "    (\"svc\", SVC(kernel=\"linear\", C=10**0.1))])  # C value obtained from gridsearch"
   ]
  },
  {
   "cell_type": "code",
   "execution_count": 9,
   "metadata": {
    "collapsed": true
   },
   "outputs": [],
   "source": [
    "def get_ingrs(given):\n",
    "    ingrs = [[i.lower() for i in recipe['ingredients']] for recipe in given]\n",
    "    return ingrs\n",
    "\n",
    "def get_labels(given):\n",
    "    return [r['cuisine'] for r in given]"
   ]
  },
  {
   "cell_type": "code",
   "execution_count": 10,
   "metadata": {
    "scrolled": true
   },
   "outputs": [
    {
     "name": "stdout",
     "output_type": "stream",
     "text": [
      "CPU times: user 883 ms, sys: 150 ms, total: 1.03 s\n",
      "Wall time: 2min 14s\n"
     ]
    }
   ],
   "source": [
    "%%time\n",
    "scores = cross_val_score(svc, get_ingrs(train), get_labels(train), cv=5, n_jobs=-1)"
   ]
  },
  {
   "cell_type": "code",
   "execution_count": 11,
   "metadata": {},
   "outputs": [
    {
     "data": {
      "text/plain": [
       "array([ 0.78008038,  0.78562453,  0.7802916 ,  0.77449377,  0.7872153 ])"
      ]
     },
     "execution_count": 11,
     "metadata": {},
     "output_type": "execute_result"
    }
   ],
   "source": [
    "scores"
   ]
  },
  {
   "cell_type": "markdown",
   "metadata": {},
   "source": [
    "#### Cross-validation accuracy"
   ]
  },
  {
   "cell_type": "code",
   "execution_count": 12,
   "metadata": {},
   "outputs": [
    {
     "data": {
      "text/plain": [
       "0.7815411180300591"
      ]
     },
     "execution_count": 12,
     "metadata": {},
     "output_type": "execute_result"
    }
   ],
   "source": [
    "scores.mean()"
   ]
  },
  {
   "cell_type": "markdown",
   "metadata": {},
   "source": [
    "# Grid search to tune `C` parameter"
   ]
  },
  {
   "cell_type": "code",
   "execution_count": 8,
   "metadata": {
    "collapsed": true
   },
   "outputs": [],
   "source": [
    "from sklearn.model_selection import GridSearchCV"
   ]
  },
  {
   "cell_type": "code",
   "execution_count": 9,
   "metadata": {
    "collapsed": true
   },
   "outputs": [],
   "source": [
    "svc = Pipeline([\n",
    "    (\"tfidf_vec\", TfidfVectorizer(tokenizer=itself,\n",
    "                                  preprocessor=itself,\n",
    "                                  strip_accents='unicode',\n",
    "                                 )),\n",
    "    (\"svc\", SVC(kernel=\"linear\"))])"
   ]
  },
  {
   "cell_type": "markdown",
   "metadata": {},
   "source": [
    "# Searching on 1e-4, 1e-3, 1e-2, 1e-1, 1e0, 1e1"
   ]
  },
  {
   "cell_type": "code",
   "execution_count": 65,
   "metadata": {},
   "outputs": [
    {
     "name": "stdout",
     "output_type": "stream",
     "text": [
      "CPU times: user 1min 57s, sys: 1.3 s, total: 1min 58s\n",
      "Wall time: 39min 16s\n"
     ]
    },
    {
     "data": {
      "text/plain": [
       "GridSearchCV(cv=3, error_score='raise',\n",
       "       estimator=Pipeline(memory=None,\n",
       "     steps=[('tfidf_vec', TfidfVectorizer(analyzer='word', binary=False, decode_error='strict',\n",
       "        dtype=<class 'numpy.int64'>, encoding='utf-8', input='content',\n",
       "        lowercase=True, max_df=1.0, max_features=None, min_df=1,\n",
       "        ngram_range=(1, 1), norm='l2',\n",
       "        preprocessor=<function it...,\n",
       "  max_iter=-1, probability=False, random_state=None, shrinking=True,\n",
       "  tol=0.001, verbose=False))]),\n",
       "       fit_params=None, iid=True, n_jobs=-1,\n",
       "       param_grid={'svc__C': array([  1.00000e-04,   1.00000e-03,   1.00000e-02,   1.00000e-01,\n",
       "         1.00000e+00,   1.00000e+01]), 'svc__class_weight': [None, 'balanced']},\n",
       "       pre_dispatch='2*n_jobs', refit=True, return_train_score='warn',\n",
       "       scoring='accuracy', verbose=0)"
      ]
     },
     "execution_count": 65,
     "metadata": {},
     "output_type": "execute_result"
    }
   ],
   "source": [
    "%%time\n",
    "grid.fit(get_ingrs(train), get_labels(train))"
   ]
  },
  {
   "cell_type": "code",
   "execution_count": 66,
   "metadata": {},
   "outputs": [
    {
     "data": {
      "text/plain": [
       "Pipeline(memory=None,\n",
       "     steps=[('tfidf_vec', TfidfVectorizer(analyzer='word', binary=False, decode_error='strict',\n",
       "        dtype=<class 'numpy.int64'>, encoding='utf-8', input='content',\n",
       "        lowercase=True, max_df=1.0, max_features=None, min_df=1,\n",
       "        ngram_range=(1, 1), norm='l2',\n",
       "        preprocessor=<function it...,\n",
       "  max_iter=-1, probability=False, random_state=None, shrinking=True,\n",
       "  tol=0.001, verbose=False))])"
      ]
     },
     "execution_count": 66,
     "metadata": {},
     "output_type": "execute_result"
    }
   ],
   "source": [
    "grid.best_estimator_"
   ]
  },
  {
   "cell_type": "code",
   "execution_count": 67,
   "metadata": {},
   "outputs": [
    {
     "data": {
      "text/plain": [
       "{'svc__C': 1.0, 'svc__class_weight': None}"
      ]
     },
     "execution_count": 67,
     "metadata": {},
     "output_type": "execute_result"
    }
   ],
   "source": [
    "grid.best_params_"
   ]
  },
  {
   "cell_type": "code",
   "execution_count": 68,
   "metadata": {},
   "outputs": [
    {
     "data": {
      "text/plain": [
       "0.77477749283451502"
      ]
     },
     "execution_count": 68,
     "metadata": {},
     "output_type": "execute_result"
    }
   ],
   "source": [
    "grid.best_score_"
   ]
  },
  {
   "cell_type": "code",
   "execution_count": 70,
   "metadata": {},
   "outputs": [
    {
     "name": "stderr",
     "output_type": "stream",
     "text": [
      "/home/aeatda/anaconda3/envs/cooking/lib/python3.6/site-packages/sklearn/utils/deprecation.py:122: FutureWarning: You are accessing a training score ('mean_train_score'), which will not be available by default any more in 0.21. If you need training scores, please set return_train_score=True\n",
      "  warnings.warn(*warn_args, **warn_kwargs)\n",
      "/home/aeatda/anaconda3/envs/cooking/lib/python3.6/site-packages/sklearn/utils/deprecation.py:122: FutureWarning: You are accessing a training score ('split0_train_score'), which will not be available by default any more in 0.21. If you need training scores, please set return_train_score=True\n",
      "  warnings.warn(*warn_args, **warn_kwargs)\n",
      "/home/aeatda/anaconda3/envs/cooking/lib/python3.6/site-packages/sklearn/utils/deprecation.py:122: FutureWarning: You are accessing a training score ('split1_train_score'), which will not be available by default any more in 0.21. If you need training scores, please set return_train_score=True\n",
      "  warnings.warn(*warn_args, **warn_kwargs)\n",
      "/home/aeatda/anaconda3/envs/cooking/lib/python3.6/site-packages/sklearn/utils/deprecation.py:122: FutureWarning: You are accessing a training score ('split2_train_score'), which will not be available by default any more in 0.21. If you need training scores, please set return_train_score=True\n",
      "  warnings.warn(*warn_args, **warn_kwargs)\n",
      "/home/aeatda/anaconda3/envs/cooking/lib/python3.6/site-packages/sklearn/utils/deprecation.py:122: FutureWarning: You are accessing a training score ('std_train_score'), which will not be available by default any more in 0.21. If you need training scores, please set return_train_score=True\n",
      "  warnings.warn(*warn_args, **warn_kwargs)\n"
     ]
    },
    {
     "data": {
      "text/plain": [
       "{'mean_fit_time': array([ 236.65419793,  517.4493014 ,  250.05366262,  581.02797771,\n",
       "         265.26640757,  569.02121663,  184.71976638,  306.7764136 ,\n",
       "         110.32019742,  152.12040401,  107.05606683,   83.58189861]),\n",
       " 'mean_score_time': array([ 76.0904185 ,  81.39194083,  76.64345336,  79.28446945,\n",
       "         77.04823335,  78.87881748,  62.78142309,  72.68669653,\n",
       "         49.61088181,  55.21994917,  48.21731702,  37.58955971]),\n",
       " 'mean_test_score': array([ 0.19706341,  0.03992558,  0.19706341,  0.03323779,  0.40772867,\n",
       "         0.45391462,  0.67642178,  0.7050083 ,  0.77477749,  0.74935888,\n",
       "         0.74742294,  0.74158998]),\n",
       " 'mean_train_score': array([ 0.19706341,  0.03990944,  0.19706341,  0.03322874,  0.41014263,\n",
       "         0.46456417,  0.69591937,  0.74118759,  0.87562239,  0.86501255,\n",
       "         0.97152672,  0.95688152]),\n",
       " 'param_svc__C': masked_array(data = [0.0001 0.0001 0.001 0.001 0.01 0.01 0.10000000000000001\n",
       "  0.10000000000000001 1.0 1.0 10.0 10.0],\n",
       "              mask = [False False False False False False False False False False False False],\n",
       "        fill_value = ?),\n",
       " 'param_svc__class_weight': masked_array(data = [None 'balanced' None 'balanced' None 'balanced' None 'balanced' None\n",
       "  'balanced' None 'balanced'],\n",
       "              mask = [False False False False False False False False False False False False],\n",
       "        fill_value = ?),\n",
       " 'params': [{'svc__C': 0.0001, 'svc__class_weight': None},\n",
       "  {'svc__C': 0.0001, 'svc__class_weight': 'balanced'},\n",
       "  {'svc__C': 0.001, 'svc__class_weight': None},\n",
       "  {'svc__C': 0.001, 'svc__class_weight': 'balanced'},\n",
       "  {'svc__C': 0.01, 'svc__class_weight': None},\n",
       "  {'svc__C': 0.01, 'svc__class_weight': 'balanced'},\n",
       "  {'svc__C': 0.10000000000000001, 'svc__class_weight': None},\n",
       "  {'svc__C': 0.10000000000000001, 'svc__class_weight': 'balanced'},\n",
       "  {'svc__C': 1.0, 'svc__class_weight': None},\n",
       "  {'svc__C': 1.0, 'svc__class_weight': 'balanced'},\n",
       "  {'svc__C': 10.0, 'svc__class_weight': None},\n",
       "  {'svc__C': 10.0, 'svc__class_weight': 'balanced'}],\n",
       " 'rank_test_score': array([ 9, 11,  9, 12,  8,  7,  6,  5,  1,  2,  3,  4], dtype=int32),\n",
       " 'split0_test_score': array([ 0.19701425,  0.01681369,  0.19701425,  0.06650079,  0.4072985 ,\n",
       "         0.41785418,  0.67277388,  0.7021036 ,  0.77380683,  0.74809621,\n",
       "         0.74862399,  0.74025484]),\n",
       " 'split0_train_score': array([ 0.197088  ,  0.01674777,  0.197088  ,  0.06653842,  0.41118781,\n",
       "         0.42638905,  0.69586209,  0.74044736,  0.87657953,  0.86484855,\n",
       "         0.97223794,  0.95726302]),\n",
       " 'split1_test_score': array([ 0.19707369,  0.0357493 ,  0.19707369,  0.02089147,  0.40923147,\n",
       "         0.39173392,  0.67878422,  0.70367298,  0.77305981,  0.74794479,\n",
       "         0.74289162,  0.73534957]),\n",
       " 'split1_train_score': array([ 0.19705827,  0.03579106,  0.19705827,  0.02085612,  0.4122195 ,\n",
       "         0.40316802,  0.69511597,  0.74101452,  0.87554215,  0.86784839,\n",
       "         0.97148784,  0.95791062]),\n",
       " 'split2_test_score': array([ 0.19710232,  0.06723513,  0.19710232,  0.01230003,  0.4066556 ,\n",
       "         0.55221853,  0.67770903,  0.70925143,  0.77746755,  0.75203743,\n",
       "         0.7507546 ,  0.74916994]),\n",
       " 'split2_train_score': array([ 0.19704396,  0.0671895 ,  0.19704396,  0.01229168,  0.40702059,\n",
       "         0.56413543,  0.69678003,  0.7421009 ,  0.87474549,  0.8623407 ,\n",
       "         0.97085439,  0.95547093]),\n",
       " 'std_fit_time': array([  1.86250472,   5.03978553,   6.56698973,   2.28220916,\n",
       "          2.72182212,   2.31283929,   3.17545819,   7.92372256,\n",
       "          2.38708519,   0.87052793,   2.2704273 ,  12.04164161]),\n",
       " 'std_score_time': array([ 0.62151367,  1.20566068,  1.09878904,  1.04179431,  0.88578141,\n",
       "         1.54511725,  1.09993491,  1.54183674,  0.5796699 ,  1.04644807,\n",
       "         2.38989141,  9.16444138]),\n",
       " 'std_test_score': array([  3.66825490e-05,   2.07948523e-02,   3.66825490e-05,\n",
       "          2.37871047e-02,   1.09462942e-03,   7.03014062e-02,\n",
       "          2.61724919e-03,   3.06701500e-03,   1.92581980e-03,\n",
       "          1.89438753e-03,   3.32026238e-03,   5.72009923e-03]),\n",
       " 'std_train_score': array([  1.83423427e-05,   2.07976446e-02,   1.83423427e-05,\n",
       "          2.38115993e-02,   2.24743822e-03,   7.10428610e-02,\n",
       "          6.80555445e-04,   6.86056805e-04,   7.50890123e-04,\n",
       "          2.25149298e-03,   5.65502315e-04,   1.03188324e-03])}"
      ]
     },
     "execution_count": 70,
     "metadata": {},
     "output_type": "execute_result"
    }
   ],
   "source": [
    "grid.cv_results_"
   ]
  },
  {
   "cell_type": "markdown",
   "metadata": {},
   "source": [
    "# Searching on 10^-1, 10^-.75, ..., 10^.75, 10^1"
   ]
  },
  {
   "cell_type": "code",
   "execution_count": 12,
   "metadata": {
    "collapsed": true
   },
   "outputs": [],
   "source": [
    "c_vals = np.logspace(-1, 1, 9)"
   ]
  },
  {
   "cell_type": "code",
   "execution_count": 13,
   "metadata": {
    "collapsed": true
   },
   "outputs": [],
   "source": [
    "param_grid = {\n",
    "    'svc__C': c_vals,\n",
    "}"
   ]
  },
  {
   "cell_type": "code",
   "execution_count": 14,
   "metadata": {
    "collapsed": true
   },
   "outputs": [],
   "source": [
    "grid = GridSearchCV(svc,\n",
    "                    param_grid=param_grid,\n",
    "                    cv=3,\n",
    "                    scoring='accuracy',\n",
    "                    n_jobs=-1)"
   ]
  },
  {
   "cell_type": "code",
   "execution_count": 15,
   "metadata": {},
   "outputs": [
    {
     "name": "stdout",
     "output_type": "stream",
     "text": [
      "CPU times: user 1min 34s, sys: 704 ms, total: 1min 35s\n",
      "Wall time: 17min 58s\n"
     ]
    },
    {
     "data": {
      "text/plain": [
       "GridSearchCV(cv=3, error_score='raise',\n",
       "       estimator=Pipeline(memory=None,\n",
       "     steps=[('tfidf_vec', TfidfVectorizer(analyzer='word', binary=False, decode_error='strict',\n",
       "        dtype=<class 'numpy.int64'>, encoding='utf-8', input='content',\n",
       "        lowercase=True, max_df=1.0, max_features=None, min_df=1,\n",
       "        ngram_range=(1, 1), norm='l2',\n",
       "        preprocessor=<function it...,\n",
       "  max_iter=-1, probability=False, random_state=None, shrinking=True,\n",
       "  tol=0.001, verbose=False))]),\n",
       "       fit_params=None, iid=True, n_jobs=-1,\n",
       "       param_grid={'svc__C': array([  0.1    ,   0.17783,   0.31623,   0.56234,   1.     ,   1.77828,\n",
       "         3.16228,   5.62341,  10.     ])},\n",
       "       pre_dispatch='2*n_jobs', refit=True, return_train_score='warn',\n",
       "       scoring='accuracy', verbose=0)"
      ]
     },
     "execution_count": 15,
     "metadata": {},
     "output_type": "execute_result"
    }
   ],
   "source": [
    "%%time\n",
    "grid.fit(get_ingrs(train), get_labels(train))"
   ]
  },
  {
   "cell_type": "code",
   "execution_count": 16,
   "metadata": {},
   "outputs": [
    {
     "data": {
      "text/plain": [
       "Pipeline(memory=None,\n",
       "     steps=[('tfidf_vec', TfidfVectorizer(analyzer='word', binary=False, decode_error='strict',\n",
       "        dtype=<class 'numpy.int64'>, encoding='utf-8', input='content',\n",
       "        lowercase=True, max_df=1.0, max_features=None, min_df=1,\n",
       "        ngram_range=(1, 1), norm='l2',\n",
       "        preprocessor=<function it...,\n",
       "  max_iter=-1, probability=False, random_state=None, shrinking=True,\n",
       "  tol=0.001, verbose=False))])"
      ]
     },
     "execution_count": 16,
     "metadata": {},
     "output_type": "execute_result"
    }
   ],
   "source": [
    "grid.best_estimator_"
   ]
  },
  {
   "cell_type": "code",
   "execution_count": 17,
   "metadata": {},
   "outputs": [
    {
     "data": {
      "text/plain": [
       "{'svc__C': 1.7782794100389228}"
      ]
     },
     "execution_count": 17,
     "metadata": {},
     "output_type": "execute_result"
    }
   ],
   "source": [
    "grid.best_params_"
   ]
  },
  {
   "cell_type": "code",
   "execution_count": 18,
   "metadata": {},
   "outputs": [
    {
     "data": {
      "text/plain": [
       "0.77563232262281889"
      ]
     },
     "execution_count": 18,
     "metadata": {},
     "output_type": "execute_result"
    }
   ],
   "source": [
    "grid.best_score_"
   ]
  },
  {
   "cell_type": "code",
   "execution_count": 20,
   "metadata": {},
   "outputs": [
    {
     "data": {
      "text/plain": [
       "1.7782794100389228"
      ]
     },
     "execution_count": 20,
     "metadata": {},
     "output_type": "execute_result"
    }
   ],
   "source": [
    "10**0.25"
   ]
  },
  {
   "cell_type": "code",
   "execution_count": 19,
   "metadata": {},
   "outputs": [
    {
     "name": "stderr",
     "output_type": "stream",
     "text": [
      "/home/aeatda/anaconda3/envs/cooking/lib/python3.6/site-packages/sklearn/utils/deprecation.py:122: FutureWarning: You are accessing a training score ('mean_train_score'), which will not be available by default any more in 0.21. If you need training scores, please set return_train_score=True\n",
      "  warnings.warn(*warn_args, **warn_kwargs)\n",
      "/home/aeatda/anaconda3/envs/cooking/lib/python3.6/site-packages/sklearn/utils/deprecation.py:122: FutureWarning: You are accessing a training score ('split0_train_score'), which will not be available by default any more in 0.21. If you need training scores, please set return_train_score=True\n",
      "  warnings.warn(*warn_args, **warn_kwargs)\n",
      "/home/aeatda/anaconda3/envs/cooking/lib/python3.6/site-packages/sklearn/utils/deprecation.py:122: FutureWarning: You are accessing a training score ('split1_train_score'), which will not be available by default any more in 0.21. If you need training scores, please set return_train_score=True\n",
      "  warnings.warn(*warn_args, **warn_kwargs)\n",
      "/home/aeatda/anaconda3/envs/cooking/lib/python3.6/site-packages/sklearn/utils/deprecation.py:122: FutureWarning: You are accessing a training score ('split2_train_score'), which will not be available by default any more in 0.21. If you need training scores, please set return_train_score=True\n",
      "  warnings.warn(*warn_args, **warn_kwargs)\n",
      "/home/aeatda/anaconda3/envs/cooking/lib/python3.6/site-packages/sklearn/utils/deprecation.py:122: FutureWarning: You are accessing a training score ('std_train_score'), which will not be available by default any more in 0.21. If you need training scores, please set return_train_score=True\n",
      "  warnings.warn(*warn_args, **warn_kwargs)\n"
     ]
    },
    {
     "data": {
      "text/plain": [
       "{'mean_fit_time': array([ 157.98665675,  141.8716344 ,  130.96095832,  126.57304716,\n",
       "         118.48142846,  115.55716753,  115.64803076,  112.06342483,\n",
       "          62.41553322]),\n",
       " 'mean_score_time': array([ 51.12805931,  47.22033993,  49.61519774,  52.10884198,\n",
       "         51.88579361,  50.08882594,  50.20968072,  50.35080115,  30.51324789]),\n",
       " 'mean_test_score': array([ 0.67642178,  0.7184593 ,  0.74800121,  0.76705888,  0.77477749,\n",
       "         0.77563232,  0.76987479,  0.75911399,  0.74742294]),\n",
       " 'mean_train_score': array([ 0.69591937,  0.7527655 ,  0.79732985,  0.83901561,  0.87562239,\n",
       "         0.90834476,  0.93558612,  0.95683115,  0.97152672]),\n",
       " 'param_svc__C': masked_array(data = [0.10000000000000001 0.17782794100389229 0.31622776601683794\n",
       "  0.56234132519034907 1.0 1.7782794100389228 3.1622776601683795\n",
       "  5.6234132519034912 10.0],\n",
       "              mask = [False False False False False False False False False],\n",
       "        fill_value = ?),\n",
       " 'params': [{'svc__C': 0.10000000000000001},\n",
       "  {'svc__C': 0.17782794100389229},\n",
       "  {'svc__C': 0.31622776601683794},\n",
       "  {'svc__C': 0.56234132519034907},\n",
       "  {'svc__C': 1.0},\n",
       "  {'svc__C': 1.7782794100389228},\n",
       "  {'svc__C': 3.1622776601683795},\n",
       "  {'svc__C': 5.6234132519034912},\n",
       "  {'svc__C': 10.0}],\n",
       " 'rank_test_score': array([9, 8, 6, 4, 2, 1, 3, 5, 7], dtype=int32),\n",
       " 'split0_test_score': array([ 0.67277388,  0.71823871,  0.74628666,  0.76656865,  0.77380683,\n",
       "         0.77463621,  0.76943376,  0.75925507,  0.74862399]),\n",
       " 'split0_train_score': array([ 0.69586209,  0.75127306,  0.79634869,  0.83912338,  0.87657953,\n",
       "         0.90830221,  0.93546075,  0.95752706,  0.97223794]),\n",
       " 'split1_test_score': array([ 0.67878422,  0.71709782,  0.74688891,  0.76612113,  0.77305981,\n",
       "         0.77328607,  0.76664907,  0.75420469,  0.74289162]),\n",
       " 'split1_train_score': array([ 0.69511597,  0.75372431,  0.79811427,  0.8408448 ,  0.87554215,\n",
       "         0.90971148,  0.93641335,  0.95632661,  0.97148784]),\n",
       " 'split2_test_score': array([ 0.67770903,  0.72004226,  0.75083006,  0.76848778,  0.77746755,\n",
       "         0.77897676,  0.77354362,  0.7638847 ,  0.7507546 ]),\n",
       " 'split2_train_score': array([ 0.69678003,  0.75329915,  0.79752658,  0.83707865,  0.87474549,\n",
       "         0.90702059,  0.93488425,  0.95663977,  0.97085439]),\n",
       " 'std_fit_time': array([ 2.08218517,  0.73413539,  7.93284874,  1.74395934,  0.97054979,\n",
       "         1.05412165,  2.18498567,  2.56616093,  1.6470323 ]),\n",
       " 'std_score_time': array([ 0.67675231,  0.48142198,  4.73983247,  1.27571217,  3.19451459,\n",
       "         1.07446124,  0.61284336,  1.34203302,  0.07061775]),\n",
       " 'std_test_score': array([ 0.00261725,  0.00121203,  0.00201469,  0.00102643,  0.00192582,\n",
       "         0.00242749,  0.00283166,  0.00395273,  0.00332026]),\n",
       " 'std_train_score': array([ 0.00068056,  0.0010695 ,  0.0007341 ,  0.00153941,  0.00075089,\n",
       "         0.00109897,  0.00063052,  0.00050842,  0.0005655 ])}"
      ]
     },
     "execution_count": 19,
     "metadata": {},
     "output_type": "execute_result"
    }
   ],
   "source": [
    "grid.cv_results_"
   ]
  },
  {
   "cell_type": "markdown",
   "metadata": {},
   "source": [
    "# Based on 10^-.1, 10^-.05, ..., 10^.45, 10^.5"
   ]
  },
  {
   "cell_type": "code",
   "execution_count": 21,
   "metadata": {
    "collapsed": true
   },
   "outputs": [],
   "source": [
    "c_vals = np.logspace(-0.1, 0.5, 13)"
   ]
  },
  {
   "cell_type": "code",
   "execution_count": 22,
   "metadata": {},
   "outputs": [
    {
     "data": {
      "text/plain": [
       "array([ 0.79432823,  0.89125094,  1.        ,  1.12201845,  1.25892541,\n",
       "        1.41253754,  1.58489319,  1.77827941,  1.99526231,  2.23872114,\n",
       "        2.51188643,  2.81838293,  3.16227766])"
      ]
     },
     "execution_count": 22,
     "metadata": {},
     "output_type": "execute_result"
    }
   ],
   "source": [
    "c_vals"
   ]
  },
  {
   "cell_type": "code",
   "execution_count": 26,
   "metadata": {
    "collapsed": true
   },
   "outputs": [],
   "source": [
    "param_grid = {\n",
    "    'svc__C': c_vals,\n",
    "}"
   ]
  },
  {
   "cell_type": "code",
   "execution_count": 27,
   "metadata": {
    "collapsed": true
   },
   "outputs": [],
   "source": [
    "grid = GridSearchCV(svc,\n",
    "                    param_grid=param_grid,\n",
    "                    cv=5,\n",
    "                    scoring='accuracy',\n",
    "                    n_jobs=-1)"
   ]
  },
  {
   "cell_type": "code",
   "execution_count": 28,
   "metadata": {},
   "outputs": [
    {
     "name": "stdout",
     "output_type": "stream",
     "text": [
      "CPU times: user 1min 39s, sys: 1.05 s, total: 1min 40s\n",
      "Wall time: 43min 32s\n"
     ]
    },
    {
     "data": {
      "text/plain": [
       "GridSearchCV(cv=5, error_score='raise',\n",
       "       estimator=Pipeline(memory=None,\n",
       "     steps=[('tfidf_vec', TfidfVectorizer(analyzer='word', binary=False, decode_error='strict',\n",
       "        dtype=<class 'numpy.int64'>, encoding='utf-8', input='content',\n",
       "        lowercase=True, max_df=1.0, max_features=None, min_df=1,\n",
       "        ngram_range=(1, 1), norm='l2',\n",
       "        preprocessor=<function it...,\n",
       "  max_iter=-1, probability=False, random_state=None, shrinking=True,\n",
       "  tol=0.001, verbose=False))]),\n",
       "       fit_params=None, iid=True, n_jobs=-1,\n",
       "       param_grid={'svc__C': array([ 0.79433,  0.89125,  1.     ,  1.12202,  1.25893,  1.41254,\n",
       "        1.58489,  1.77828,  1.99526,  2.23872,  2.51189,  2.81838,  3.16228])},\n",
       "       pre_dispatch='2*n_jobs', refit=True, return_train_score='warn',\n",
       "       scoring='accuracy', verbose=0)"
      ]
     },
     "execution_count": 28,
     "metadata": {},
     "output_type": "execute_result"
    }
   ],
   "source": [
    "%%time\n",
    "grid.fit(get_ingrs(train), get_labels(train))"
   ]
  },
  {
   "cell_type": "code",
   "execution_count": 29,
   "metadata": {},
   "outputs": [
    {
     "data": {
      "text/plain": [
       "Pipeline(memory=None,\n",
       "     steps=[('tfidf_vec', TfidfVectorizer(analyzer='word', binary=False, decode_error='strict',\n",
       "        dtype=<class 'numpy.int64'>, encoding='utf-8', input='content',\n",
       "        lowercase=True, max_df=1.0, max_features=None, min_df=1,\n",
       "        ngram_range=(1, 1), norm='l2',\n",
       "        preprocessor=<function it...,\n",
       "  max_iter=-1, probability=False, random_state=None, shrinking=True,\n",
       "  tol=0.001, verbose=False))])"
      ]
     },
     "execution_count": 29,
     "metadata": {},
     "output_type": "execute_result"
    }
   ],
   "source": [
    "grid.best_estimator_"
   ]
  },
  {
   "cell_type": "markdown",
   "metadata": {},
   "source": [
    "## Best value: 10^.1"
   ]
  },
  {
   "cell_type": "code",
   "execution_count": 30,
   "metadata": {},
   "outputs": [
    {
     "data": {
      "text/plain": [
       "{'svc__C': 1.2589254117941671}"
      ]
     },
     "execution_count": 30,
     "metadata": {},
     "output_type": "execute_result"
    }
   ],
   "source": [
    "grid.best_params_"
   ]
  },
  {
   "cell_type": "code",
   "execution_count": 31,
   "metadata": {},
   "outputs": [
    {
     "data": {
      "text/plain": [
       "0.78154070498315487"
      ]
     },
     "execution_count": 31,
     "metadata": {},
     "output_type": "execute_result"
    }
   ],
   "source": [
    "grid.best_score_"
   ]
  },
  {
   "cell_type": "code",
   "execution_count": 33,
   "metadata": {},
   "outputs": [
    {
     "data": {
      "text/plain": [
       "1.2589254117941673"
      ]
     },
     "execution_count": 33,
     "metadata": {},
     "output_type": "execute_result"
    }
   ],
   "source": [
    "10**0.1"
   ]
  },
  {
   "cell_type": "code",
   "execution_count": 32,
   "metadata": {},
   "outputs": [
    {
     "name": "stderr",
     "output_type": "stream",
     "text": [
      "/home/aeatda/anaconda3/envs/cooking/lib/python3.6/site-packages/sklearn/utils/deprecation.py:122: FutureWarning: You are accessing a training score ('mean_train_score'), which will not be available by default any more in 0.21. If you need training scores, please set return_train_score=True\n",
      "  warnings.warn(*warn_args, **warn_kwargs)\n",
      "/home/aeatda/anaconda3/envs/cooking/lib/python3.6/site-packages/sklearn/utils/deprecation.py:122: FutureWarning: You are accessing a training score ('split0_train_score'), which will not be available by default any more in 0.21. If you need training scores, please set return_train_score=True\n",
      "  warnings.warn(*warn_args, **warn_kwargs)\n",
      "/home/aeatda/anaconda3/envs/cooking/lib/python3.6/site-packages/sklearn/utils/deprecation.py:122: FutureWarning: You are accessing a training score ('split1_train_score'), which will not be available by default any more in 0.21. If you need training scores, please set return_train_score=True\n",
      "  warnings.warn(*warn_args, **warn_kwargs)\n",
      "/home/aeatda/anaconda3/envs/cooking/lib/python3.6/site-packages/sklearn/utils/deprecation.py:122: FutureWarning: You are accessing a training score ('split2_train_score'), which will not be available by default any more in 0.21. If you need training scores, please set return_train_score=True\n",
      "  warnings.warn(*warn_args, **warn_kwargs)\n",
      "/home/aeatda/anaconda3/envs/cooking/lib/python3.6/site-packages/sklearn/utils/deprecation.py:122: FutureWarning: You are accessing a training score ('split3_train_score'), which will not be available by default any more in 0.21. If you need training scores, please set return_train_score=True\n",
      "  warnings.warn(*warn_args, **warn_kwargs)\n",
      "/home/aeatda/anaconda3/envs/cooking/lib/python3.6/site-packages/sklearn/utils/deprecation.py:122: FutureWarning: You are accessing a training score ('split4_train_score'), which will not be available by default any more in 0.21. If you need training scores, please set return_train_score=True\n",
      "  warnings.warn(*warn_args, **warn_kwargs)\n",
      "/home/aeatda/anaconda3/envs/cooking/lib/python3.6/site-packages/sklearn/utils/deprecation.py:122: FutureWarning: You are accessing a training score ('std_train_score'), which will not be available by default any more in 0.21. If you need training scores, please set return_train_score=True\n",
      "  warnings.warn(*warn_args, **warn_kwargs)\n"
     ]
    },
    {
     "data": {
      "text/plain": [
       "{'mean_fit_time': array([ 143.23508005,  141.68128681,  142.49367027,  138.52516761,\n",
       "         138.25345206,  141.67964201,  134.36590509,  131.23971028,\n",
       "         131.31269522,  130.88654017,  136.13537259,  130.27778497,\n",
       "         114.3429522 ]),\n",
       " 'mean_score_time': array([ 30.35004473,  30.59682322,  31.32538342,  32.35517311,\n",
       "         32.77063403,  32.35771828,  33.70293155,  33.04715948,\n",
       "         31.51931925,  32.57419186,  32.36193271,  32.1674602 ,  29.84162641]),\n",
       " 'mean_test_score': array([ 0.77749283,  0.77890079,  0.78071102,  0.78116357,  0.7815407 ,\n",
       "         0.78144014,  0.78131443,  0.78058531,  0.77988133,  0.77935335,\n",
       "         0.77880022,  0.77698999,  0.77520491]),\n",
       " 'mean_train_score': array([ 0.86047416,  0.86704884,  0.87342238,  0.87984624,  0.88610037,\n",
       "         0.8921156 ,  0.89793594,  0.90383173,  0.90970242,  0.91545369,\n",
       "         0.92033122,  0.92560476,  0.93024972]),\n",
       " 'param_svc__C': masked_array(data = [0.79432823472428149 0.89125093813374556 1.0 1.1220184543019633\n",
       "  1.2589254117941671 1.4125375446227542 1.5848931924611134\n",
       "  1.7782794100389228 1.9952623149688793 2.2387211385683394\n",
       "  2.5118864315095797 2.8183829312644537 3.1622776601683795],\n",
       "              mask = [False False False False False False False False False False False False\n",
       "  False],\n",
       "        fill_value = ?),\n",
       " 'params': [{'svc__C': 0.79432823472428149},\n",
       "  {'svc__C': 0.89125093813374556},\n",
       "  {'svc__C': 1.0},\n",
       "  {'svc__C': 1.1220184543019633},\n",
       "  {'svc__C': 1.2589254117941671},\n",
       "  {'svc__C': 1.4125375446227542},\n",
       "  {'svc__C': 1.5848931924611134},\n",
       "  {'svc__C': 1.7782794100389228},\n",
       "  {'svc__C': 1.9952623149688793},\n",
       "  {'svc__C': 2.2387211385683394},\n",
       "  {'svc__C': 2.5118864315095797},\n",
       "  {'svc__C': 2.8183829312644537},\n",
       "  {'svc__C': 3.1622776601683795}],\n",
       " 'rank_test_score': array([11,  9,  5,  4,  1,  2,  3,  6,  7,  8, 10, 12, 13], dtype=int32),\n",
       " 'split0_test_score': array([ 0.77505652,  0.77681487,  0.77982919,  0.78008038,  0.78008038,\n",
       "         0.77920121,  0.77819643,  0.77857322,  0.77807084,  0.77756845,\n",
       "         0.77719166,  0.77430294,  0.77304697]),\n",
       " 'split0_train_score': array([ 0.86065007,  0.8675657 ,  0.87416698,  0.88111405,  0.88743242,\n",
       "         0.89309066,  0.89821451,  0.90384132,  0.90993965,  0.91635232,\n",
       "         0.92100465,  0.92653716,  0.93115805]),\n",
       " 'split1_test_score': array([ 0.78336265,  0.78399095,  0.78336265,  0.78461925,  0.78562453,\n",
       "         0.78474491,  0.78436793,  0.78336265,  0.78323699,  0.78286002,\n",
       "         0.78273436,  0.78034682,  0.77871324]),\n",
       " 'split1_train_score': array([ 0.86041614,  0.8669223 ,  0.87364848,  0.88068896,  0.88675509,\n",
       "         0.89285265,  0.89888735,  0.90507921,  0.91073674,  0.91639427,\n",
       "         0.92107745,  0.92554061,  0.92994091]),\n",
       " 'split2_test_score': array([ 0.77727501,  0.7774007 ,  0.77916038,  0.77941176,  0.7802916 ,\n",
       "         0.78129713,  0.78092006,  0.78079437,  0.77903469,  0.77840623,\n",
       "         0.77614379,  0.77413273,  0.77287582]),\n",
       " 'split2_train_score': array([ 0.85838205,  0.86495066,  0.87136212,  0.87730216,  0.88465648,\n",
       "         0.89150795,  0.89744799,  0.9030423 ,  0.90976806,  0.9147338 ,\n",
       "         0.9197624 ,  0.92529386,  0.92966246]),\n",
       " 'split3_test_score': array([ 0.76946296,  0.77122375,  0.77487109,  0.77499686,  0.77449377,\n",
       "         0.77612879,  0.77638033,  0.77449377,  0.77424223,  0.77373915,\n",
       "         0.77424223,  0.77260722,  0.77059489]),\n",
       " 'split3_train_score': array([ 0.86387204,  0.87065959,  0.87656726,  0.88272633,  0.88847689,\n",
       "         0.89353612,  0.89925526,  0.90519436,  0.9098765 ,  0.91612984,\n",
       "         0.92103196,  0.92665682,  0.93146466]),\n",
       " 'split4_test_score': array([ 0.78230779,  0.78507613,  0.78633447,  0.78671197,  0.7872153 ,\n",
       "         0.78583113,  0.78671197,  0.7857053 ,  0.78482446,  0.78419529,\n",
       "         0.78369196,  0.78356613,  0.78079779]),\n",
       " 'split4_train_score': array([ 0.85905049,  0.86514595,  0.87136708,  0.87739969,  0.88318095,\n",
       "         0.8895906 ,  0.89587457,  0.90200145,  0.90819116,  0.91365821,\n",
       "         0.91877965,  0.92399535,  0.92902253]),\n",
       " 'std_fit_time': array([  2.5561368 ,   1.77976337,   1.43966313,   2.76954911,\n",
       "          3.11212218,   1.01278471,   3.95841141,   1.65171232,\n",
       "          0.92012041,   2.78476318,   3.41365542,   2.99852195,  26.13210019]),\n",
       " 'std_score_time': array([ 1.13540944,  0.86343379,  0.52671167,  0.42164521,  0.95443976,\n",
       "         0.60368651,  0.52127802,  0.48562471,  0.15965881,  0.73677109,\n",
       "         0.89220067,  0.54594973,  5.90142739]),\n",
       " 'std_test_score': array([ 0.00506095,  0.00508983,  0.0038961 ,  0.00412201,  0.00452071,\n",
       "         0.00356153,  0.00381189,  0.00387531,  0.00378041,  0.00377659,\n",
       "         0.00373636,  0.0042206 ,  0.00387018]),\n",
       " 'std_train_score': array([ 0.00189651,  0.00206611,  0.00194755,  0.00214804,  0.00192139,\n",
       "         0.00143225,  0.00120089,  0.00121542,  0.00083001,  0.00108548,\n",
       "         0.00092003,  0.00096614,  0.00092167])}"
      ]
     },
     "execution_count": 32,
     "metadata": {},
     "output_type": "execute_result"
    }
   ],
   "source": [
    "grid.cv_results_"
   ]
  },
  {
   "cell_type": "markdown",
   "metadata": {},
   "source": [
    "## Fitting to test data with new C value (after encoding all of train+test ingredients)"
   ]
  },
  {
   "cell_type": "code",
   "execution_count": 13,
   "metadata": {},
   "outputs": [
    {
     "name": "stdout",
     "output_type": "stream",
     "text": [
      "CPU times: user 379 ms, sys: 20.2 ms, total: 399 ms\n",
      "Wall time: 398 ms\n"
     ]
    }
   ],
   "source": [
    "%%time\n",
    "dvec_all = TfidfVectorizer(tokenizer=itself,\n",
    "                           preprocessor=itself,\n",
    "                          ).fit(get_ingrs(train+test))"
   ]
  },
  {
   "cell_type": "code",
   "execution_count": 14,
   "metadata": {
    "collapsed": true
   },
   "outputs": [],
   "source": [
    "test_bag = dvec_all.transform(get_ingrs(test))"
   ]
  },
  {
   "cell_type": "code",
   "execution_count": 15,
   "metadata": {
    "collapsed": true
   },
   "outputs": [],
   "source": [
    "svc_linear = SVC(kernel='linear', C=10**0.1)"
   ]
  },
  {
   "cell_type": "code",
   "execution_count": 17,
   "metadata": {},
   "outputs": [
    {
     "name": "stdout",
     "output_type": "stream",
     "text": [
      "CPU times: user 1min 31s, sys: 367 ms, total: 1min 31s\n",
      "Wall time: 1min 31s\n"
     ]
    }
   ],
   "source": [
    "%%time\n",
    "svc_linear = svc_linear.fit(dvec_all.transform(get_ingrs(train)), get_labels(train))"
   ]
  },
  {
   "cell_type": "code",
   "execution_count": 18,
   "metadata": {},
   "outputs": [
    {
     "data": {
      "text/plain": [
       "array(['brazilian', 'british', 'cajun_creole', 'chinese', 'filipino',\n",
       "       'french', 'greek', 'indian', 'irish', 'italian', 'jamaican',\n",
       "       'japanese', 'korean', 'mexican', 'moroccan', 'russian',\n",
       "       'southern_us', 'spanish', 'thai', 'vietnamese'],\n",
       "      dtype='<U12')"
      ]
     },
     "execution_count": 18,
     "metadata": {},
     "output_type": "execute_result"
    }
   ],
   "source": [
    "svc_linear.classes_"
   ]
  },
  {
   "cell_type": "code",
   "execution_count": 19,
   "metadata": {},
   "outputs": [
    {
     "data": {
      "text/plain": [
       "{'C': 1.2589254117941673,\n",
       " 'cache_size': 200,\n",
       " 'class_weight': None,\n",
       " 'coef0': 0.0,\n",
       " 'decision_function_shape': 'ovr',\n",
       " 'degree': 3,\n",
       " 'gamma': 'auto',\n",
       " 'kernel': 'linear',\n",
       " 'max_iter': -1,\n",
       " 'probability': False,\n",
       " 'random_state': None,\n",
       " 'shrinking': True,\n",
       " 'tol': 0.001,\n",
       " 'verbose': False}"
      ]
     },
     "execution_count": 19,
     "metadata": {},
     "output_type": "execute_result"
    }
   ],
   "source": [
    "svc_linear.get_params()"
   ]
  },
  {
   "cell_type": "code",
   "execution_count": 21,
   "metadata": {},
   "outputs": [],
   "source": [
    "test_preds = svc_linear.predict(dvec_all.transform(get_ingrs(test)))"
   ]
  },
  {
   "cell_type": "code",
   "execution_count": 22,
   "metadata": {},
   "outputs": [
    {
     "data": {
      "text/plain": [
       "(9944,)"
      ]
     },
     "execution_count": 22,
     "metadata": {},
     "output_type": "execute_result"
    }
   ],
   "source": [
    "test_preds.shape"
   ]
  },
  {
   "cell_type": "code",
   "execution_count": 23,
   "metadata": {
    "collapsed": true
   },
   "outputs": [],
   "source": [
    "test_ids = [r['id'] for r in test]"
   ]
  },
  {
   "cell_type": "code",
   "execution_count": 24,
   "metadata": {
    "collapsed": true
   },
   "outputs": [],
   "source": [
    "df_test = pd.DataFrame([test_ids, list(test_preds)]).transpose()\n",
    "df_test.columns = ['id', 'cuisine']"
   ]
  },
  {
   "cell_type": "code",
   "execution_count": 25,
   "metadata": {
    "collapsed": true
   },
   "outputs": [],
   "source": [
    "df_test.to_csv('../_data/180404_basic_SVM_TFIDF_gridsearch_C.csv', index=False)"
   ]
  },
  {
   "cell_type": "markdown",
   "metadata": {},
   "source": [
    "## Results\n",
    "Accuracy 0.78559  \n",
    "Rank 594\n",
    "\n",
    "![kaggle image](../_images/180404_bow_svm_tfidf_grid.png)\n",
    "![kaggle image](../_images/180404_bow_svm_tfidf_grid_standing.png)"
   ]
  },
  {
   "cell_type": "code",
   "execution_count": null,
   "metadata": {
    "collapsed": true
   },
   "outputs": [],
   "source": []
  }
 ],
 "metadata": {
  "kernelspec": {
   "display_name": "Python 3",
   "language": "python",
   "name": "python3"
  },
  "language_info": {
   "codemirror_mode": {
    "name": "ipython",
    "version": 3
   },
   "file_extension": ".py",
   "mimetype": "text/x-python",
   "name": "python",
   "nbconvert_exporter": "python",
   "pygments_lexer": "ipython3",
   "version": "3.6.3"
  }
 },
 "nbformat": 4,
 "nbformat_minor": 2
}
